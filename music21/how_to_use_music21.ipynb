{
 "cells": [
  {
   "cell_type": "code",
   "execution_count": 7,
   "id": "03c3085d-633d-4c9b-8c93-fe3398457d80",
   "metadata": {},
   "outputs": [],
   "source": [
    "from music21 import *"
   ]
  },
  {
   "cell_type": "code",
   "execution_count": 8,
   "id": "b0834879-5fd7-4c30-b057-1de12fe7d2a5",
   "metadata": {},
   "outputs": [
    {
     "data": {
      "image/png": "[encoded data removed]",
      "text/plain": [
       "<IPython.core.display.Image object>"
      ]
     },
     "metadata": {
      "image/png": {
       "height": 36,
       "width": 166
      }
     },
     "output_type": "display_data"
    }
   ],
   "source": [
    "n = note.Note(\"D#3\")\n",
    "n.duration.type = 'half'\n",
    "n.show()"
   ]
  },
  {
   "cell_type": "code",
   "execution_count": 9,
   "id": "402c090b-7494-49ee-9344-8ff5650c724c",
   "metadata": {},
   "outputs": [
    {
     "data": {
      "image/png": "[encoded data removed]",
      "text/plain": [
       "<IPython.core.display.Image object>"
      ]
     },
     "metadata": {
      "image/png": {
       "height": 50,
       "width": 331
      }
     },
     "output_type": "display_data"
    }
   ],
   "source": [
    "littleMelody = converter.parse(\"tinynotation: 3/4 c4 d8 f g16 a g f#\")\n",
    "littleMelody.show()"
   ]
  },
  {
   "cell_type": "code",
   "execution_count": 20,
   "id": "b22ba018-60d5-42d8-998f-524356ef4105",
   "metadata": {},
   "outputs": [],
   "source": [
    "from music21 import environment, stream, note, metadata\n",
    "\n",
    "# Set the path to your LilyPond executable\n",
    "env = environment.UserSettings()\n",
    "env['lilypondPath'] = \"/Users/elaineran/Downloads/lilypond-2.24.3/bin/lilypond\""
   ]
  },
  {
   "cell_type": "code",
   "execution_count": 24,
   "id": "b512f33b-9131-4177-8466-4157fa631c4e",
   "metadata": {},
   "outputs": [
    {
     "name": "stdout",
     "output_type": "stream",
     "text": [
      "PDF saved to: /Users/elaineran/Downloads/simple_melody.pdf\n"
     ]
    }
   ],
   "source": [
    "s = stream.Stream()\n",
    "\n",
    "# Add metadata\n",
    "s.metadata = metadata.Metadata()\n",
    "s.metadata.title = 'Simple Melody'\n",
    "s.metadata.composer = 'Your Name'\n",
    "\n",
    "# Add notes to the stream\n",
    "notes = ['C4', 'D4', 'E4', 'F4', 'G4', 'A4', 'B4', 'C5']\n",
    "for n in notes:\n",
    "    s.append(note.Note(n))\n",
    "\n",
    "# Save the stream as a MusicXML file\n",
    "s.write('musicxml', fp='simple_melody.xml')\n",
    "\n",
    "# Convert the MusicXML file to PDF using LilyPond\n",
    "output_path = '/Users/elaineran/Downloads/simple_melody.pdf'  # Specify your desired output file path\n",
    "s.write('lily.pdf', fp=output_path)\n",
    "\n",
    "print(f\"PDF saved to: {output_path}\")"
   ]
  },
  {
   "cell_type": "code",
   "execution_count": 26,
   "id": "9df22f63-5185-458a-9018-ce41747a94fc",
   "metadata": {},
   "outputs": [
    {
     "data": {
      "image/png": "[encoded data removed]",
      "text/plain": [
       "<IPython.core.display.Image object>"
      ]
     },
     "metadata": {
      "image/png": {
       "height": 54,
       "width": 164
      }
     },
     "output_type": "display_data"
    }
   ],
   "source": [
    "cMinor = chord.Chord([\"C4\",\"G4\",\"E-5\"])\n",
    "cMinor.show()"
   ]
  },
  {
   "cell_type": "code",
   "execution_count": null,
   "id": "9ce8e89a-7689-4ff0-9018-fe0cc22d1c10",
   "metadata": {},
   "outputs": [],
   "source": []
  }
 ],
 "metadata": {
  "kernelspec": {
   "display_name": "Python (sbi_env)",
   "language": "python",
   "name": "sbi_env"
  },
  "language_info": {
   "codemirror_mode": {
    "name": "ipython",
    "version": 3
   },
   "file_extension": ".py",
   "mimetype": "text/x-python",
   "name": "python",
   "nbconvert_exporter": "python",
   "pygments_lexer": "ipython3",
   "version": "3.7.16"
  }
 },
 "nbformat": 4,
 "nbformat_minor": 5
}
