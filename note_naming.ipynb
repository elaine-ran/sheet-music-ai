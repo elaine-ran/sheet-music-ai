{
 "cells": [
  {
   "cell_type": "code",
   "execution_count": 30,
   "metadata": {},
   "outputs": [
    {
     "name": "stdout",
     "output_type": "stream",
     "text": [
      "['segment_3.wav', 'segment_5.wav', 'segment_7.wav', 'segment_13.wav', 'segment_14.wav', 'segment_15.wav', 'segment_16.wav', 'segment_17.wav', 'segment_19.wav', 'segment_20.wav', 'segment_21.wav', 'segment_22.wav', 'segment_23.wav', 'segment_24.wav', 'segment_26.wav', 'segment_28.wav', 'segment_29.wav', 'segment_30.wav', 'segment_31.wav', 'segment_32.wav', 'segment_33.wav', 'segment_34.wav', 'segment_35.wav', 'segment_36.wav', 'segment_37.wav', 'segment_38.wav', 'segment_39.wav', 'segment_40.wav', 'segment_41.wav', 'segment_42.wav', 'segment_43.wav', 'segment_44.wav', 'segment_45.wav', 'segment_46.wav', 'segment_47.wav', 'segment_48.wav', 'segment_49.wav', 'segment_50.wav', 'segment_52.wav', 'segment_54.wav', 'segment_55.wav', 'segment_58.wav', 'segment_59.wav', 'segment_60.wav', 'segment_62.wav', 'segment_63.wav', 'segment_65.wav', 'segment_66.wav', 'segment_67.wav', 'segment_68.wav', 'segment_69.wav', 'segment_70.wav', 'segment_71.wav', 'segment_72.wav', 'segment_73.wav', 'segment_74.wav', 'segment_75.wav', 'segment_77.wav', 'segment_79.wav', 'segment_80.wav', 'segment_81.wav', 'segment_83.wav', 'segment_85.wav', 'segment_86.wav', 'segment_87.wav', 'segment_88.wav', 'segment_89.wav', 'segment_90.wav', 'segment_91.wav', 'segment_92.wav', 'segment_93.wav', 'segment_94.wav', 'segment_95.wav', 'segment_96.wav', 'segment_97.wav', 'segment_98.wav', 'segment_99.wav', 'segment_100.wav', 'segment_101.wav', 'segment_102.wav', 'segment_103.wav', 'segment_104.wav', 'segment_105.wav', 'segment_106.wav', 'segment_107.wav', 'segment_108.wav', 'segment_109.wav', 'segment_110.wav']\n"
     ]
    }
   ],
   "source": [
    "import os\n",
    "\n",
    "def numerical_sort(value):\n",
    "    # Extracts numeric value from the file name\n",
    "    return int(value[8:len(value)-4])\n",
    "\n",
    "def read_files_from_folder(folder_path):\n",
    "    # List all files in the folder\n",
    "    files = os.listdir(folder_path)\n",
    "    \n",
    "    # Sort files (this example sorts alphabetically; adjust as needed)\n",
    "    files.sort(key=numerical_sort)\n",
    "    return(files)\n",
    "\n",
    "    # Iterate through sorted files\n",
    "    #for file_name in files:\n",
    "    #    file_path = os.path.join(folder_path, file_name)\n",
    "        \n",
    "        # Check if it's a file (and not a directory)\n",
    "    #    if os.path.isfile(file_path):\n",
    "    #        with open(file_path, 'r') as file:\n",
    "    #            content = file.read()\n",
    "    #            print(f\"Contents of {file_name}:\")\n",
    "    #            print(content)\n",
    "    #            print(\"\\n\")\n",
    "\n",
    "\n",
    "    \n",
    "        \n",
    "folder_path = '/Users/chloezhao/summer 2024 project/summer-project/piano_notes/'\n",
    "read_files_from_folder(folder_path)\n",
    "\n",
    "\n",
    "note_files = []\n",
    "    \n",
    "for file_name in read_files_from_folder(folder_path):\n",
    "    note_files.append(file_name)\n",
    "\n",
    "print(note_files)"
   ]
  },
  {
   "cell_type": "code",
   "execution_count": 31,
   "metadata": {},
   "outputs": [],
   "source": [
    "notes_list = [\"C\",\"C#\",\"D\",\"Eb\",\"E\",\"F\",\"F#\",\"G\",\"G#\",\"A\",\"Bb\",\"B\"]\n",
    "\n"
   ]
  },
  {
   "cell_type": "code",
   "execution_count": 54,
   "metadata": {},
   "outputs": [],
   "source": [
    "import pandas as pd\n",
    "\n",
    "df = pd.DataFrame()\n",
    "\n",
    "df['File Names'] = note_files\n",
    "\n",
    "note_matching = [\"A0\",\"Bb0\",\"B0\"]\n",
    "\n",
    "i = 1\n",
    "\n",
    "while i<8:\n",
    "    for note in notes_list:\n",
    "        note_matching.append(note+str(i))\n",
    "    i += 1\n",
    "\n",
    "note_matching.append(\"C8\")\n",
    "\n",
    "df['Note'] = note_matching\n",
    "\n",
    "df.to_csv('piano_notes.csv', index=False)"
   ]
  }
 ],
 "metadata": {
  "kernelspec": {
   "display_name": "base",
   "language": "python",
   "name": "python3"
  },
  "language_info": {
   "codemirror_mode": {
    "name": "ipython",
    "version": 3
   },
   "file_extension": ".py",
   "mimetype": "text/x-python",
   "name": "python",
   "nbconvert_exporter": "python",
   "pygments_lexer": "ipython3",
   "version": "3.11.5"
  }
 },
 "nbformat": 4,
 "nbformat_minor": 2
}
