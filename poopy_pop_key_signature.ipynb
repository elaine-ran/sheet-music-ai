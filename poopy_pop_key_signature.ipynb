{
 "cells": [
  {
   "cell_type": "code",
   "execution_count": 2,
   "id": "f1447366-52b6-4d4a-bb26-ea9e667202da",
   "metadata": {},
   "outputs": [
    {
     "name": "stdout",
     "output_type": "stream",
     "text": [
      "Collecting pydub\n",
      "  Using cached pydub-0.25.1-py2.py3-none-any.whl (32 kB)\n",
      "Installing collected packages: pydub\n",
      "Successfully installed pydub-0.25.1\n",
      "\n",
      "\u001b[1m[\u001b[0m\u001b[34;49mnotice\u001b[0m\u001b[1;39;49m]\u001b[0m\u001b[39;49m A new release of pip is available: \u001b[0m\u001b[31;49m23.0.1\u001b[0m\u001b[39;49m -> \u001b[0m\u001b[32;49m24.1.2\u001b[0m\n",
      "\u001b[1m[\u001b[0m\u001b[34;49mnotice\u001b[0m\u001b[1;39;49m]\u001b[0m\u001b[39;49m To update, run: \u001b[0m\u001b[32;49m/Users/elaineran/.pyenv/versions/3.10.14/bin/python -m pip install --upgrade pip\u001b[0m\n"
     ]
    }
   ],
   "source": [
    "import sys\n",
    "!{sys.executable} -m pip install pydub"
   ]
  },
  {
   "cell_type": "code",
   "execution_count": 3,
   "id": "a2cd413e-5301-403b-a31a-84cd797820ca",
   "metadata": {},
   "outputs": [],
   "source": [
    "import pydub"
   ]
  },
  {
   "cell_type": "code",
   "execution_count": 4,
   "id": "c26a0abf-fa64-4672-a9f6-4b613d1a5b7a",
   "metadata": {},
   "outputs": [
    {
     "name": "stderr",
     "output_type": "stream",
     "text": [
      "2024-07-09 23:39:48.501525: I tensorflow/core/platform/cpu_feature_guard.cc:182] This TensorFlow binary is optimized to use available CPU instructions in performance-critical operations.\n",
      "To enable the following instructions: SSE4.1 SSE4.2, in other operations, rebuild TensorFlow with the appropriate compiler flags.\n"
     ]
    }
   ],
   "source": [
    "import os\n",
    "import numpy as np\n",
    "import pandas as pd\n",
    "import librosa\n",
    "from sklearn.model_selection import train_test_split\n",
    "from sklearn.preprocessing import LabelEncoder\n",
    "from sklearn.metrics import accuracy_score, classification_report, confusion_matrix\n",
    "from keras.utils import to_categorical\n",
    "from keras.models import Sequential\n",
    "from keras.layers import Dense, Dropout, Activation, Flatten, Conv1D, MaxPooling1D\n",
    "import seaborn as sns\n",
    "import matplotlib.pyplot as plt"
   ]
  },
  {
   "cell_type": "code",
   "execution_count": 5,
   "id": "e729e660",
   "metadata": {},
   "outputs": [],
   "source": [
    "notchloe = True"
   ]
  },
  {
   "cell_type": "code",
   "execution_count": 6,
   "id": "6c38c7a8",
   "metadata": {},
   "outputs": [],
   "source": [
    "def not_chloe(b):\n",
    "    if b is True:\n",
    "        return \"elaineran\", \"Desktop\"\n",
    "    else: \n",
    "        return \"chloezhao\", \"summer 2024 project\""
   ]
  },
  {
   "cell_type": "code",
   "execution_count": 7,
   "id": "4982ff14",
   "metadata": {},
   "outputs": [],
   "source": [
    "data_path = \"/Users/\"+not_chloe(notchloe)[0] + \"/\"+not_chloe(notchloe)[1]+\"/summer-project/original spotify songs/\"\n",
    "metadata_path = \"/Users/\"+not_chloe(notchloe)[0] +\"/\"+not_chloe(notchloe)[1]+\"/summer-project/top_50_2023.csv\""
   ]
  },
  {
   "cell_type": "code",
   "execution_count": 11,
   "id": "2732fb9f",
   "metadata": {},
   "outputs": [],
   "source": [
    "import os\n",
    "import random\n",
    "from pydub import AudioSegment\n",
    "\n",
    "def cut_audio(input_file, output_path, file_name, i):\n",
    "    # Load the audio file\n",
    "    audio = AudioSegment.from_file(input_file)\n",
    "\n",
    "    # Get the length of the audio in milliseconds\n",
    "    audio_length = len(audio)\n",
    "\n",
    "    # Generate random start time and ensure the cut is not longer than 20 seconds\n",
    "    start_time = random.randint(0, audio_length)\n",
    "    end_time = min(start_time + 20000, audio_length)  # Ensuring the cut does not exceed 20 seconds\n",
    "\n",
    "    # Cut the audio segment\n",
    "    cut_segment = audio[start_time:end_time]\n",
    "\n",
    "    # Export the cut audio segment\n",
    "    cut_segment.export(f\"{output_path}/{file_name}_cut_{i}.wav\", format=\"wav\")\n",
    "\n",
    "# Specify the directory containing the input audio files\n",
    "input_folder = \"/Users/\"+not_chloe(notchloe)[0] + \"/\"+not_chloe(notchloe)[1]+\"/summer-project/original spotify songs/\"\n",
    "# Specify the directory for output files\n",
    "output_folder = \"/Users/\"+not_chloe(notchloe)[0] + \"/\"+not_chloe(notchloe)[1]+\"/summer-project/spotify songs/\"\n",
    "\n",
    "\n",
    "# Create the output directory if it doesn't exist\n",
    "os.makedirs(output_folder, exist_ok=True)\n",
    "\n",
    "# List all files in the input folder\n",
    "input_files = [f for f in os.listdir(input_folder) if os.path.isfile(os.path.join(input_folder, f))]\n",
    "\n",
    "for input_file in input_files:\n",
    "    # Get the full path of the input file\n",
    "    input_file_path = os.path.join(input_folder, input_file)\n",
    "    # Get the base name of the file without extension\n",
    "    file_name, _ = os.path.splitext(input_file)\n",
    "\n",
    "    # Perform 10 cuts for each file\n",
    "    for i in range(1, 4):\n",
    "        cut_audio(input_file_path, output_folder, file_name, i)\n"
   ]
  },
  {
   "cell_type": "code",
   "execution_count": 3,
   "id": "43c13396",
   "metadata": {},
   "outputs": [],
   "source": [
    "import pandas as pd\n",
    "\n",
    "# Load only specific columns from the CSV file into a DataFrame\n",
    "spotify_2021_data = pd.read_csv('spotify_top50_2021.csv', usecols=['artist_name', 'track_name','key'])\n",
    "\n",
    "spotify_2023_data = pd.read_csv('top_50_2023.csv', usecols=['artist_name', 'track_name','key'])\n",
    "\n",
    "all_spotify_data = pd.concat([spotify_2021_data, spotify_2023_data], ignore_index=True)\n",
    "\n",
    "all_spotify_data.to_csv('all_spotify_data.csv', index=False)"
   ]
  },
  {
   "cell_type": "code",
   "execution_count": 13,
   "id": "f73c35c9",
   "metadata": {},
   "outputs": [],
   "source": [
    "def load_data(data_path, metadata_path):\n",
    "    features = []\n",
    "    labels = []\n",
    "\n",
    "    # Load the metadata\n",
    "    metadata = pd.read_csv(metadata_path)\n",
    "\n",
    "    # Iterate over each row in the metadata\n",
    "    for index, row in metadata.iterrows():\n",
    "        track_name = row['track_name']\n",
    "        artist_name = row['artist_name']\n",
    "        key_signature = row['key']\n",
    "\n",
    "        # Assume there are 10 cuts for each track\n",
    "        for cut in range(1, 11):\n",
    "            # Construct the file path for each cut\n",
    "            file_path = os.path.join(data_path, f\"{track_name} - {artist_name}_cut_{cut}.wav\")\n",
    "            \n",
    "            # Check if the file exists\n",
    "            if not os.path.exists(file_path):\n",
    "                print(f\"File not found: {file_path}\")\n",
    "                continue\n",
    "\n",
    "            # Load the audio file and resample it\n",
    "            target_sr = 22050\n",
    "            audio, sample_rate = librosa.load(file_path, sr=target_sr)\n",
    "\n",
    "            # Check if the audio length is less than the default n_fft size\n",
    "            if len(audio) < 2048:\n",
    "                # Pad the audio file with zeros\n",
    "                audio = np.pad(audio, (0, 2048 - len(audio)), mode='constant')\n",
    "\n",
    "            # Extract MFCC features\n",
    "            mfccs = librosa.feature.mfcc(y=audio, sr=target_sr, n_mfcc=40)\n",
    "            mfccs_scaled = np.mean(mfccs.T, axis=0)\n",
    "\n",
    "            # Append features and labels\n",
    "            features.append(mfccs_scaled)\n",
    "            labels.append(key_signature)\n",
    "\n",
    "    return np.array(features), np.array(labels)"
   ]
  },
  {
   "cell_type": "code",
   "execution_count": 15,
   "id": "d0379330",
   "metadata": {},
   "outputs": [],
   "source": [
    "features, labels = load_data(data_path, metadata_path)\n",
    "\n",
    "\n",
    "# Encode labels\n",
    "le = LabelEncoder()\n",
    "labels_encoded = le.fit_transform(labels)\n",
    "labels_onehot = to_categorical(labels_encoded)\n"
   ]
  },
  {
   "cell_type": "code",
   "execution_count": 16,
   "id": "443fb292",
   "metadata": {},
   "outputs": [],
   "source": [
    "# Split the data into training and testing sets\n",
    "X_train, X_test, y_train, y_test = train_test_split(features, labels_onehot, test_size=0.2, random_state=42)\n"
   ]
  },
  {
   "cell_type": "code",
   "execution_count": 17,
   "id": "b2872cb8",
   "metadata": {},
   "outputs": [
    {
     "name": "stderr",
     "output_type": "stream",
     "text": [
      "2024-07-08 23:07:16.088507: I metal_plugin/src/device/metal_device.cc:1154] Metal device set to: Apple M1\n",
      "2024-07-08 23:07:16.089429: I metal_plugin/src/device/metal_device.cc:296] systemMemory: 8.00 GB\n",
      "2024-07-08 23:07:16.093518: I metal_plugin/src/device/metal_device.cc:313] maxCacheSize: 2.67 GB\n",
      "2024-07-08 23:07:16.096120: I tensorflow/core/common_runtime/pluggable_device/pluggable_device_factory.cc:306] Could not identify NUMA node of platform GPU ID 0, defaulting to 0. Your kernel may not have been built with NUMA support.\n",
      "2024-07-08 23:07:16.097754: I tensorflow/core/common_runtime/pluggable_device/pluggable_device_factory.cc:272] Created TensorFlow device (/job:localhost/replica:0/task:0/device:GPU:0 with 0 MB memory) -> physical PluggableDevice (device: 0, name: METAL, pci bus id: <undefined>)\n"
     ]
    }
   ],
   "source": [
    "input_shape = (X_train.shape[1], 1)\n",
    "model = Sequential()\n",
    "model.add(Conv1D(64, 3, padding='same', activation='relu', input_shape=input_shape))\n",
    "model.add(MaxPooling1D(pool_size=2))\n",
    "model.add(Dropout(0.25))\n",
    "model.add(Conv1D(128, 3, padding='same', activation='relu'))\n",
    "model.add(MaxPooling1D(pool_size=2))\n",
    "model.add(Dropout(0.25))\n",
    "model.add(Flatten())\n",
    "model.add(Dense(512, activation='relu'))\n",
    "model.add(Dropout(0.5))\n",
    "model.add(Dense(len(le.classes_), activation='softmax'))\n"
   ]
  },
  {
   "cell_type": "code",
   "execution_count": 18,
   "id": "9b811e2a",
   "metadata": {},
   "outputs": [],
   "source": [
    "model.compile(loss='categorical_crossentropy', optimizer='adam', metrics=['accuracy'])"
   ]
  },
  {
   "cell_type": "code",
   "execution_count": 19,
   "id": "d6141a28",
   "metadata": {},
   "outputs": [],
   "source": [
    "X_train = X_train.reshape(X_train.shape[0], X_train.shape[1], 1)\n",
    "X_test = X_test.reshape(X_test.shape[0], X_test.shape[1], 1)\n"
   ]
  },
  {
   "cell_type": "code",
   "execution_count": 20,
   "id": "7d22a9e6",
   "metadata": {},
   "outputs": [
    {
     "name": "stdout",
     "output_type": "stream",
     "text": [
      "Epoch 1/100\n"
     ]
    },
    {
     "name": "stderr",
     "output_type": "stream",
     "text": [
      "2024-07-08 23:07:22.921865: I tensorflow/core/grappler/optimizers/custom_graph_optimizer_registry.cc:114] Plugin optimizer for device_type GPU is enabled.\n",
      "2024-07-08 23:07:23.035648: E tensorflow/core/grappler/optimizers/meta_optimizer.cc:954] model_pruner failed: INVALID_ARGUMENT: Graph does not contain terminal node AssignAddVariableOp_10.\n"
     ]
    },
    {
     "name": "stdout",
     "output_type": "stream",
     "text": [
      "10/10 [==============================] - ETA: 0s - loss: 11.1232 - accuracy: 0.1219"
     ]
    },
    {
     "name": "stderr",
     "output_type": "stream",
     "text": [
      "2024-07-08 23:07:25.501373: I tensorflow/core/grappler/optimizers/custom_graph_optimizer_registry.cc:114] Plugin optimizer for device_type GPU is enabled.\n"
     ]
    },
    {
     "name": "stdout",
     "output_type": "stream",
     "text": [
      "10/10 [==============================] - 4s 94ms/step - loss: 11.1232 - accuracy: 0.1219 - val_loss: 5.5405 - val_accuracy: 0.1375\n",
      "Epoch 2/100\n",
      "10/10 [==============================] - 0s 32ms/step - loss: 7.9673 - accuracy: 0.1531 - val_loss: 2.7930 - val_accuracy: 0.1500\n",
      "Epoch 3/100\n",
      "10/10 [==============================] - 0s 27ms/step - loss: 4.6429 - accuracy: 0.2719 - val_loss: 2.3470 - val_accuracy: 0.3875\n",
      "Epoch 4/100\n",
      "10/10 [==============================] - 0s 27ms/step - loss: 3.7131 - accuracy: 0.3313 - val_loss: 2.4728 - val_accuracy: 0.3000\n",
      "Epoch 5/100\n",
      "10/10 [==============================] - 0s 28ms/step - loss: 2.7208 - accuracy: 0.3594 - val_loss: 1.8640 - val_accuracy: 0.4125\n",
      "Epoch 6/100\n",
      "10/10 [==============================] - 0s 27ms/step - loss: 2.7662 - accuracy: 0.4375 - val_loss: 2.1518 - val_accuracy: 0.4375\n",
      "Epoch 7/100\n",
      "10/10 [==============================] - 0s 27ms/step - loss: 2.5762 - accuracy: 0.4344 - val_loss: 2.0429 - val_accuracy: 0.4500\n",
      "Epoch 8/100\n",
      "10/10 [==============================] - 0s 27ms/step - loss: 2.2618 - accuracy: 0.5219 - val_loss: 1.9418 - val_accuracy: 0.5500\n",
      "Epoch 9/100\n",
      "10/10 [==============================] - 0s 26ms/step - loss: 2.2078 - accuracy: 0.5250 - val_loss: 1.2895 - val_accuracy: 0.5750\n",
      "Epoch 10/100\n",
      "10/10 [==============================] - 0s 27ms/step - loss: 1.9756 - accuracy: 0.5844 - val_loss: 1.4942 - val_accuracy: 0.6250\n",
      "Epoch 11/100\n",
      "10/10 [==============================] - 0s 27ms/step - loss: 1.9935 - accuracy: 0.6281 - val_loss: 1.6137 - val_accuracy: 0.5875\n",
      "Epoch 12/100\n",
      "10/10 [==============================] - 0s 30ms/step - loss: 1.6696 - accuracy: 0.6281 - val_loss: 1.1871 - val_accuracy: 0.6750\n",
      "Epoch 13/100\n",
      "10/10 [==============================] - 0s 33ms/step - loss: 1.6180 - accuracy: 0.6781 - val_loss: 1.3795 - val_accuracy: 0.6000\n",
      "Epoch 14/100\n",
      "10/10 [==============================] - 0s 27ms/step - loss: 1.5518 - accuracy: 0.7156 - val_loss: 1.1587 - val_accuracy: 0.7125\n",
      "Epoch 15/100\n",
      "10/10 [==============================] - 0s 29ms/step - loss: 1.3525 - accuracy: 0.7344 - val_loss: 1.2615 - val_accuracy: 0.6625\n",
      "Epoch 16/100\n",
      "10/10 [==============================] - 0s 27ms/step - loss: 1.0854 - accuracy: 0.7344 - val_loss: 1.0983 - val_accuracy: 0.7250\n",
      "Epoch 17/100\n",
      "10/10 [==============================] - 0s 28ms/step - loss: 1.3468 - accuracy: 0.7563 - val_loss: 1.0379 - val_accuracy: 0.7125\n",
      "Epoch 18/100\n",
      "10/10 [==============================] - 0s 28ms/step - loss: 0.9109 - accuracy: 0.7812 - val_loss: 0.9983 - val_accuracy: 0.7375\n",
      "Epoch 19/100\n",
      "10/10 [==============================] - 0s 28ms/step - loss: 0.8690 - accuracy: 0.8031 - val_loss: 0.8596 - val_accuracy: 0.8125\n",
      "Epoch 20/100\n",
      "10/10 [==============================] - 0s 29ms/step - loss: 0.7929 - accuracy: 0.8062 - val_loss: 0.7131 - val_accuracy: 0.8625\n",
      "Epoch 21/100\n",
      "10/10 [==============================] - 0s 28ms/step - loss: 0.7359 - accuracy: 0.8250 - val_loss: 0.6535 - val_accuracy: 0.8625\n",
      "Epoch 22/100\n",
      "10/10 [==============================] - 0s 25ms/step - loss: 0.8332 - accuracy: 0.8594 - val_loss: 0.7595 - val_accuracy: 0.8250\n",
      "Epoch 23/100\n",
      "10/10 [==============================] - 0s 29ms/step - loss: 0.8134 - accuracy: 0.8500 - val_loss: 0.7945 - val_accuracy: 0.7625\n",
      "Epoch 24/100\n",
      "10/10 [==============================] - 0s 28ms/step - loss: 0.6570 - accuracy: 0.8562 - val_loss: 0.7521 - val_accuracy: 0.8250\n",
      "Epoch 25/100\n",
      "10/10 [==============================] - 0s 27ms/step - loss: 0.5594 - accuracy: 0.8656 - val_loss: 0.7997 - val_accuracy: 0.7875\n",
      "Epoch 26/100\n",
      "10/10 [==============================] - 0s 29ms/step - loss: 0.4329 - accuracy: 0.8781 - val_loss: 0.8319 - val_accuracy: 0.8000\n",
      "Epoch 27/100\n",
      "10/10 [==============================] - 0s 29ms/step - loss: 0.4294 - accuracy: 0.8813 - val_loss: 0.7865 - val_accuracy: 0.8375\n",
      "Epoch 28/100\n",
      "10/10 [==============================] - 0s 27ms/step - loss: 0.5466 - accuracy: 0.9219 - val_loss: 0.8427 - val_accuracy: 0.8375\n",
      "Epoch 29/100\n",
      "10/10 [==============================] - 0s 28ms/step - loss: 0.4742 - accuracy: 0.8687 - val_loss: 0.9927 - val_accuracy: 0.8125\n",
      "Epoch 30/100\n",
      "10/10 [==============================] - 0s 27ms/step - loss: 0.4000 - accuracy: 0.9156 - val_loss: 0.7145 - val_accuracy: 0.8375\n",
      "Epoch 31/100\n",
      "10/10 [==============================] - 0s 28ms/step - loss: 0.3510 - accuracy: 0.9344 - val_loss: 0.7803 - val_accuracy: 0.8500\n",
      "Epoch 32/100\n",
      "10/10 [==============================] - 0s 27ms/step - loss: 0.4874 - accuracy: 0.8750 - val_loss: 0.6654 - val_accuracy: 0.8875\n",
      "Epoch 33/100\n",
      "10/10 [==============================] - 0s 27ms/step - loss: 0.3460 - accuracy: 0.9000 - val_loss: 0.7422 - val_accuracy: 0.9000\n",
      "Epoch 34/100\n",
      "10/10 [==============================] - 0s 27ms/step - loss: 0.2564 - accuracy: 0.9469 - val_loss: 0.6955 - val_accuracy: 0.8750\n",
      "Epoch 35/100\n",
      "10/10 [==============================] - 0s 30ms/step - loss: 0.4074 - accuracy: 0.9375 - val_loss: 0.5976 - val_accuracy: 0.9000\n",
      "Epoch 36/100\n",
      "10/10 [==============================] - 0s 28ms/step - loss: 0.3982 - accuracy: 0.9187 - val_loss: 0.8325 - val_accuracy: 0.8375\n",
      "Epoch 37/100\n",
      "10/10 [==============================] - 0s 27ms/step - loss: 0.4628 - accuracy: 0.8969 - val_loss: 0.6200 - val_accuracy: 0.9000\n",
      "Epoch 38/100\n",
      "10/10 [==============================] - 0s 29ms/step - loss: 0.3348 - accuracy: 0.9125 - val_loss: 0.8331 - val_accuracy: 0.8625\n",
      "Epoch 39/100\n",
      "10/10 [==============================] - 0s 29ms/step - loss: 0.3929 - accuracy: 0.9094 - val_loss: 0.9092 - val_accuracy: 0.8250\n",
      "Epoch 40/100\n",
      "10/10 [==============================] - 0s 29ms/step - loss: 0.4521 - accuracy: 0.8938 - val_loss: 0.8227 - val_accuracy: 0.8875\n",
      "Epoch 41/100\n",
      "10/10 [==============================] - 0s 29ms/step - loss: 0.4139 - accuracy: 0.9250 - val_loss: 1.0465 - val_accuracy: 0.8375\n",
      "Epoch 42/100\n",
      "10/10 [==============================] - 0s 29ms/step - loss: 0.1885 - accuracy: 0.9312 - val_loss: 0.8865 - val_accuracy: 0.8625\n",
      "Epoch 43/100\n",
      "10/10 [==============================] - 0s 29ms/step - loss: 0.3583 - accuracy: 0.9281 - val_loss: 0.9332 - val_accuracy: 0.8375\n",
      "Epoch 44/100\n",
      "10/10 [==============================] - 0s 29ms/step - loss: 0.2513 - accuracy: 0.9344 - val_loss: 0.7976 - val_accuracy: 0.8625\n",
      "Epoch 45/100\n",
      "10/10 [==============================] - 0s 28ms/step - loss: 0.2948 - accuracy: 0.9281 - val_loss: 0.9847 - val_accuracy: 0.8500\n",
      "Epoch 46/100\n",
      "10/10 [==============================] - 0s 27ms/step - loss: 0.2884 - accuracy: 0.9406 - val_loss: 0.8316 - val_accuracy: 0.8625\n",
      "Epoch 47/100\n",
      "10/10 [==============================] - 0s 28ms/step - loss: 0.1537 - accuracy: 0.9563 - val_loss: 0.7429 - val_accuracy: 0.9000\n",
      "Epoch 48/100\n",
      "10/10 [==============================] - 0s 28ms/step - loss: 0.2063 - accuracy: 0.9688 - val_loss: 0.7949 - val_accuracy: 0.8875\n",
      "Epoch 49/100\n",
      "10/10 [==============================] - 0s 29ms/step - loss: 0.2724 - accuracy: 0.9500 - val_loss: 0.7874 - val_accuracy: 0.8875\n",
      "Epoch 50/100\n",
      "10/10 [==============================] - 0s 30ms/step - loss: 0.2029 - accuracy: 0.9406 - val_loss: 0.7196 - val_accuracy: 0.9000\n",
      "Epoch 51/100\n",
      "10/10 [==============================] - 0s 33ms/step - loss: 0.1775 - accuracy: 0.9469 - val_loss: 0.7794 - val_accuracy: 0.8750\n",
      "Epoch 52/100\n",
      "10/10 [==============================] - 0s 27ms/step - loss: 0.3566 - accuracy: 0.9344 - val_loss: 1.1239 - val_accuracy: 0.8875\n",
      "Epoch 53/100\n",
      "10/10 [==============================] - 0s 29ms/step - loss: 0.4291 - accuracy: 0.9062 - val_loss: 0.8571 - val_accuracy: 0.8625\n",
      "Epoch 54/100\n",
      "10/10 [==============================] - 0s 28ms/step - loss: 0.3774 - accuracy: 0.9563 - val_loss: 1.0209 - val_accuracy: 0.8875\n",
      "Epoch 55/100\n",
      "10/10 [==============================] - 0s 30ms/step - loss: 0.3185 - accuracy: 0.9344 - val_loss: 1.3845 - val_accuracy: 0.8375\n",
      "Epoch 56/100\n",
      "10/10 [==============================] - 0s 28ms/step - loss: 0.2274 - accuracy: 0.9531 - val_loss: 1.1669 - val_accuracy: 0.8875\n",
      "Epoch 57/100\n",
      "10/10 [==============================] - 0s 28ms/step - loss: 0.2931 - accuracy: 0.9281 - val_loss: 1.1563 - val_accuracy: 0.8625\n",
      "Epoch 58/100\n",
      "10/10 [==============================] - 0s 27ms/step - loss: 0.1570 - accuracy: 0.9531 - val_loss: 0.9853 - val_accuracy: 0.9000\n",
      "Epoch 59/100\n",
      "10/10 [==============================] - 0s 27ms/step - loss: 0.2507 - accuracy: 0.9531 - val_loss: 1.2299 - val_accuracy: 0.8750\n",
      "Epoch 60/100\n",
      "10/10 [==============================] - 0s 28ms/step - loss: 0.1540 - accuracy: 0.9625 - val_loss: 1.0926 - val_accuracy: 0.8750\n",
      "Epoch 61/100\n",
      "10/10 [==============================] - 0s 26ms/step - loss: 0.2322 - accuracy: 0.9531 - val_loss: 1.2976 - val_accuracy: 0.8500\n",
      "Epoch 62/100\n",
      "10/10 [==============================] - 0s 27ms/step - loss: 0.1813 - accuracy: 0.9469 - val_loss: 1.1827 - val_accuracy: 0.8750\n",
      "Epoch 63/100\n",
      "10/10 [==============================] - 0s 26ms/step - loss: 0.2084 - accuracy: 0.9594 - val_loss: 1.3617 - val_accuracy: 0.8625\n",
      "Epoch 64/100\n",
      "10/10 [==============================] - 0s 35ms/step - loss: 0.1575 - accuracy: 0.9531 - val_loss: 1.4990 - val_accuracy: 0.8750\n",
      "Epoch 65/100\n",
      "10/10 [==============================] - 0s 33ms/step - loss: 0.1745 - accuracy: 0.9563 - val_loss: 1.4045 - val_accuracy: 0.8750\n",
      "Epoch 66/100\n",
      "10/10 [==============================] - 0s 30ms/step - loss: 0.1121 - accuracy: 0.9719 - val_loss: 1.0943 - val_accuracy: 0.8625\n",
      "Epoch 67/100\n",
      "10/10 [==============================] - 0s 29ms/step - loss: 0.2374 - accuracy: 0.9594 - val_loss: 1.1903 - val_accuracy: 0.8750\n",
      "Epoch 68/100\n",
      "10/10 [==============================] - 0s 29ms/step - loss: 0.0982 - accuracy: 0.9688 - val_loss: 1.3775 - val_accuracy: 0.9000\n",
      "Epoch 69/100\n",
      "10/10 [==============================] - 0s 31ms/step - loss: 0.1233 - accuracy: 0.9719 - val_loss: 1.0388 - val_accuracy: 0.9000\n",
      "Epoch 70/100\n",
      "10/10 [==============================] - 0s 30ms/step - loss: 0.1121 - accuracy: 0.9656 - val_loss: 1.2929 - val_accuracy: 0.8875\n",
      "Epoch 71/100\n",
      "10/10 [==============================] - 0s 27ms/step - loss: 0.1184 - accuracy: 0.9750 - val_loss: 1.5842 - val_accuracy: 0.8750\n",
      "Epoch 72/100\n",
      "10/10 [==============================] - 0s 34ms/step - loss: 0.1567 - accuracy: 0.9688 - val_loss: 1.5677 - val_accuracy: 0.8875\n",
      "Epoch 73/100\n",
      "10/10 [==============================] - 0s 29ms/step - loss: 0.1146 - accuracy: 0.9656 - val_loss: 1.3897 - val_accuracy: 0.9000\n",
      "Epoch 74/100\n",
      "10/10 [==============================] - 0s 27ms/step - loss: 0.2448 - accuracy: 0.9594 - val_loss: 1.5113 - val_accuracy: 0.8625\n",
      "Epoch 75/100\n",
      "10/10 [==============================] - 0s 31ms/step - loss: 0.1973 - accuracy: 0.9563 - val_loss: 1.4878 - val_accuracy: 0.8875\n",
      "Epoch 76/100\n",
      "10/10 [==============================] - 0s 29ms/step - loss: 0.2104 - accuracy: 0.9500 - val_loss: 1.6808 - val_accuracy: 0.8375\n",
      "Epoch 77/100\n",
      "10/10 [==============================] - 0s 28ms/step - loss: 0.1400 - accuracy: 0.9656 - val_loss: 1.3447 - val_accuracy: 0.9000\n",
      "Epoch 78/100\n",
      "10/10 [==============================] - 0s 30ms/step - loss: 0.1404 - accuracy: 0.9688 - val_loss: 1.4982 - val_accuracy: 0.8625\n",
      "Epoch 79/100\n",
      "10/10 [==============================] - 0s 28ms/step - loss: 0.1609 - accuracy: 0.9719 - val_loss: 1.4062 - val_accuracy: 0.8875\n",
      "Epoch 80/100\n",
      "10/10 [==============================] - 0s 29ms/step - loss: 0.1763 - accuracy: 0.9531 - val_loss: 1.7463 - val_accuracy: 0.8750\n",
      "Epoch 81/100\n",
      "10/10 [==============================] - 0s 29ms/step - loss: 0.1953 - accuracy: 0.9656 - val_loss: 1.3999 - val_accuracy: 0.8875\n",
      "Epoch 82/100\n",
      "10/10 [==============================] - 0s 28ms/step - loss: 0.1454 - accuracy: 0.9688 - val_loss: 1.8295 - val_accuracy: 0.8625\n",
      "Epoch 83/100\n",
      "10/10 [==============================] - 0s 28ms/step - loss: 0.3036 - accuracy: 0.9406 - val_loss: 1.3885 - val_accuracy: 0.9000\n",
      "Epoch 84/100\n",
      "10/10 [==============================] - 0s 28ms/step - loss: 0.1562 - accuracy: 0.9469 - val_loss: 1.5840 - val_accuracy: 0.9000\n",
      "Epoch 85/100\n",
      "10/10 [==============================] - 0s 27ms/step - loss: 0.1347 - accuracy: 0.9656 - val_loss: 2.1320 - val_accuracy: 0.8500\n",
      "Epoch 86/100\n",
      "10/10 [==============================] - 0s 28ms/step - loss: 0.2213 - accuracy: 0.9500 - val_loss: 1.7557 - val_accuracy: 0.8500\n",
      "Epoch 87/100\n",
      "10/10 [==============================] - 0s 28ms/step - loss: 0.3154 - accuracy: 0.9500 - val_loss: 1.7884 - val_accuracy: 0.8625\n",
      "Epoch 88/100\n",
      "10/10 [==============================] - 0s 26ms/step - loss: 0.2137 - accuracy: 0.9625 - val_loss: 2.1645 - val_accuracy: 0.8875\n",
      "Epoch 89/100\n",
      "10/10 [==============================] - 0s 29ms/step - loss: 0.2560 - accuracy: 0.9563 - val_loss: 2.4242 - val_accuracy: 0.8750\n",
      "Epoch 90/100\n",
      "10/10 [==============================] - 0s 28ms/step - loss: 0.1895 - accuracy: 0.9531 - val_loss: 2.1621 - val_accuracy: 0.8375\n",
      "Epoch 91/100\n",
      "10/10 [==============================] - 0s 29ms/step - loss: 0.1682 - accuracy: 0.9563 - val_loss: 2.2113 - val_accuracy: 0.8875\n",
      "Epoch 92/100\n",
      "10/10 [==============================] - 0s 28ms/step - loss: 0.1420 - accuracy: 0.9750 - val_loss: 1.9588 - val_accuracy: 0.8625\n",
      "Epoch 93/100\n",
      "10/10 [==============================] - 0s 27ms/step - loss: 0.3271 - accuracy: 0.9531 - val_loss: 1.6942 - val_accuracy: 0.9000\n",
      "Epoch 94/100\n",
      "10/10 [==============================] - 0s 28ms/step - loss: 0.1825 - accuracy: 0.9625 - val_loss: 1.7472 - val_accuracy: 0.8875\n",
      "Epoch 95/100\n",
      "10/10 [==============================] - 0s 28ms/step - loss: 0.1060 - accuracy: 0.9781 - val_loss: 1.8293 - val_accuracy: 0.8750\n",
      "Epoch 96/100\n",
      "10/10 [==============================] - 0s 28ms/step - loss: 0.1915 - accuracy: 0.9719 - val_loss: 1.4886 - val_accuracy: 0.9125\n",
      "Epoch 97/100\n",
      "10/10 [==============================] - 0s 27ms/step - loss: 0.2108 - accuracy: 0.9594 - val_loss: 1.4129 - val_accuracy: 0.9000\n",
      "Epoch 98/100\n",
      "10/10 [==============================] - 0s 27ms/step - loss: 0.1902 - accuracy: 0.9750 - val_loss: 1.8043 - val_accuracy: 0.8875\n",
      "Epoch 99/100\n",
      "10/10 [==============================] - 0s 27ms/step - loss: 0.0290 - accuracy: 0.9906 - val_loss: 1.4832 - val_accuracy: 0.9000\n",
      "Epoch 100/100\n",
      "10/10 [==============================] - 0s 27ms/step - loss: 0.2360 - accuracy: 0.9531 - val_loss: 1.5829 - val_accuracy: 0.9250\n"
     ]
    }
   ],
   "source": [
    "history = model.fit(X_train, y_train, epochs=100, validation_data=(X_test, y_test))"
   ]
  },
  {
   "cell_type": "code",
   "execution_count": 22,
   "id": "f284c31c",
   "metadata": {},
   "outputs": [
    {
     "data": {
      "image/png": "[encoded data removed]",
      "text/plain": [
       "<Figure size 600x400 with 1 Axes>"
      ]
     },
     "metadata": {},
     "output_type": "display_data"
    }
   ],
   "source": [
    "# plotting from history\n",
    "\n",
    "loss = history.history['loss']\n",
    "val_loss = history.history['val_loss']\n",
    "acc = history.history['accuracy']\n",
    "val_acc = history.history['val_accuracy']\n",
    "\n",
    "epochs = list(range(len(loss)))\n",
    "\n",
    "figsize = (6, 4)\n",
    "fig, axis1 = plt.subplots(figsize=figsize)\n",
    "plot1_lacc = axis1.plot(epochs, acc, 'navy', label='accuracy')\n",
    "plot1_val_lacc = axis1.plot(epochs, val_acc, 'deepskyblue', label=\"validation accuracy\")\n",
    "\n",
    "plot1_loss = axis1.plot(epochs, loss, 'red', label='loss')\n",
    "plot1_val_loss = axis1.plot(epochs, val_loss, 'lightsalmon', label=\"validation loss\")\n",
    "\n",
    "\n",
    "plots = plot1_loss + plot1_val_loss\n",
    "labs = [plot.get_label() for plot in plots]\n",
    "axis1.set_xlabel('Epoch')\n",
    "axis1.set_ylabel('Loss/Accuracy')\n",
    "plt.title(\"Loss/Accuracy History\")\n",
    "plt.tight_layout()\n",
    "axis1.legend(loc='lower right')\n",
    "#plt.savefig(\"/Users/chloezhao/summer 2024 project/summer-project/figures/Loss-Accuracy-Notes\")\n",
    "plt.show()"
   ]
  },
  {
   "cell_type": "code",
   "execution_count": 24,
   "id": "f4a56ff8",
   "metadata": {},
   "outputs": [
    {
     "name": "stderr",
     "output_type": "stream",
     "text": [
      "2024-07-08 23:11:45.089040: I tensorflow/core/grappler/optimizers/custom_graph_optimizer_registry.cc:114] Plugin optimizer for device_type GPU is enabled.\n"
     ]
    },
    {
     "name": "stdout",
     "output_type": "stream",
     "text": [
      "3/3 [==============================] - 0s 33ms/step\n"
     ]
    }
   ],
   "source": [
    "test_predictions = model.predict(X_test)"
   ]
  },
  {
   "cell_type": "code",
   "execution_count": 25,
   "id": "0cb4df1e",
   "metadata": {},
   "outputs": [
    {
     "name": "stdout",
     "output_type": "stream",
     "text": [
      "[ 8 10  9  0 11 11  5 11  7 11 10  8  6  1  0  6 11  0  8  4  1  8  4 11\n",
      " 10  4  4  1  7  4  4  3  7  1  8  4  4  1  5  8  4  0  1  1 11  4  8  0\n",
      "  1  0  6  5  9  1  0  9  1  0  9  5 11  6  6 11  6  9  8  7  4  1  5  8\n",
      " 10  6  4  1  1  8  0  1]\n"
     ]
    }
   ],
   "source": [
    "predicted_class_indices = np.argmax(test_predictions, axis=1)\n",
    "predicted_classes = le.inverse_transform(predicted_class_indices)\n",
    "print(predicted_classes)"
   ]
  },
  {
   "cell_type": "code",
   "execution_count": 26,
   "id": "1d955466",
   "metadata": {},
   "outputs": [
    {
     "name": "stdout",
     "output_type": "stream",
     "text": [
      "[ 7 10  9  0 11 11  5 11  7 11 10  8  0  1  0  6 11  0  8  4  1  8  4 11\n",
      " 10  4  4  1  7  4  4  3  7  0  8  4  4  1  5  8  4  0  1  1 11  4  8  0\n",
      "  1  0  6  5  9  1  0  9  1  0  9  5 11  6  6  1  4  9  8  7  4  1  5  8\n",
      " 10  6  4  1  1  8  0 10]\n"
     ]
    }
   ],
   "source": [
    "y_true = np.argmax(y_test, axis=1)\n",
    "true_classes = le.inverse_transform(y_true)\n",
    "print(true_classes)"
   ]
  },
  {
   "cell_type": "code",
   "execution_count": 27,
   "id": "39a5344d",
   "metadata": {},
   "outputs": [
    {
     "name": "stdout",
     "output_type": "stream",
     "text": [
      "Accuracy: 0.925\n",
      "Confusion Matrix:\n",
      " [[ 9  1  0  0  0  1  0  0  0  0  0]\n",
      " [ 0 12  0  0  0  0  0  0  0  0  1]\n",
      " [ 0  0  1  0  0  0  0  0  0  0  0]\n",
      " [ 0  0  0 12  0  1  0  0  0  0  0]\n",
      " [ 0  0  0  0  5  0  0  0  0  0  0]\n",
      " [ 0  0  0  0  0  5  0  0  0  0  0]\n",
      " [ 0  0  0  0  0  0  4  1  0  0  0]\n",
      " [ 0  0  0  0  0  0  0  9  0  0  0]\n",
      " [ 0  0  0  0  0  0  0  0  5  0  0]\n",
      " [ 0  1  0  0  0  0  0  0  0  4  0]\n",
      " [ 0  0  0  0  0  0  0  0  0  0  8]]\n"
     ]
    }
   ],
   "source": [
    "unique_labels = np.unique(np.concatenate([y_true, predicted_class_indices]))\n",
    "\n",
    "\n",
    "# Calculate accuracy\n",
    "accuracy = accuracy_score(y_true, predicted_class_indices)\n",
    "print(\"Accuracy:\", accuracy)\n",
    "\n",
    "\n",
    "# Generate a classification report\n",
    "#print(classification_report(y_true, predicted_class_indices, labels=unique_labels, target_names=le.inverse_transform(unique_labels)))\n",
    "\n",
    "\n",
    "# Confusion matrix\n",
    "cm = confusion_matrix(y_true, predicted_class_indices)\n",
    "print(\"Confusion Matrix:\\n\", cm)"
   ]
  },
  {
   "cell_type": "code",
   "execution_count": 29,
   "id": "5d55ab8b",
   "metadata": {},
   "outputs": [
    {
     "data": {
      "image/png": "[encoded data removed]",
      "text/plain": [
       "<Figure size 1000x800 with 2 Axes>"
      ]
     },
     "metadata": {},
     "output_type": "display_data"
    }
   ],
   "source": [
    "\n",
    "\n",
    "plt.figure(figsize=(10, 8))\n",
    "sns.heatmap(cm, annot=True, fmt=\"d\", cmap=\"Blues\", xticklabels=le.classes_, yticklabels=le.classes_)\n",
    "plt.xlabel('Predicted Labels')\n",
    "plt.ylabel('True Labels')\n",
    "plt.title('Confusion Matrix')\n",
    "plt.savefig(\"/Users/\"+not_chloe(notchloe)[0] + \"/\"+not_chloe(notchloe)[1]+\"/summer-project/figures/Confusion-Matrix-Notes\")\n",
    "plt.show()\n"
   ]
  }
 ],
 "metadata": {
  "kernelspec": {
   "display_name": "Python 3 (ipykernel)",
   "language": "python",
   "name": "python3"
  },
  "language_info": {
   "codemirror_mode": {
    "name": "ipython",
    "version": 3
   },
   "file_extension": ".py",
   "mimetype": "text/x-python",
   "name": "python",
   "nbconvert_exporter": "python",
   "pygments_lexer": "ipython3",
   "version": "3.9.18"
  }
 },
 "nbformat": 4,
 "nbformat_minor": 5
}
