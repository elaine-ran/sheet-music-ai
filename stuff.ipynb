{
 "cells": [
  {
   "cell_type": "markdown",
   "id": "78525ccd-765f-452c-9776-5345718674a1",
   "metadata": {},
   "source": [
    "Copy from https://wandb.ai/mostafaibrahim17/ml-articles/reports/An-Introduction-to-Audio-Classification-with-Keras--Vmlldzo0MDQzNDUy#:~:text=When%20using%20a%20Convolutional%20Neural,detect%20interesting%20patterns%20or%20structures."
   ]
  },
  {
   "cell_type": "code",
   "execution_count": 1,
   "id": "0d5e2d2c-c85d-4577-9e95-34274966fdf7",
   "metadata": {},
   "outputs": [
    {
     "name": "stderr",
     "output_type": "stream",
     "text": [
      "Using TensorFlow backend.\n"
     ]
    }
   ],
   "source": [
    "import os\n",
    "import numpy as np\n",
    "import pandas as pd\n",
    "import librosa\n",
    "from sklearn.model_selection import train_test_split\n",
    "from sklearn.preprocessing import LabelEncoder\n",
    "from keras.utils import to_categorical\n",
    "from keras.models import Sequential\n",
    "from keras.layers import Dense, Dropout, Activation, Flatten, Conv1D, MaxPooling1D\n",
    "import matplotlib.pyplot as plt"
   ]
  },
  {
   "cell_type": "code",
   "execution_count": 2,
   "id": "b94e1565-3cd8-4049-abd4-8397f770b614",
   "metadata": {},
   "outputs": [],
   "source": [
    "def load_data(data_path, metadata_path):\n",
    "    features = []\n",
    "    labels = []\n",
    "\n",
    "\n",
    "    metadata = pd.read_csv(metadata_path)\n",
    "\n",
    "\n",
    "    for index, row in metadata.iterrows():\n",
    "        file_path = os.path.join(data_path, f\"fold{row['fold']}\", f\"{row['slice_file_name']}\")\n",
    "\n",
    "\n",
    "        # Load the audio file and resample it\n",
    "        target_sr = 22050\n",
    "        audio, sample_rate = librosa.load(file_path, sr=target_sr)\n",
    "\n",
    "        # Check if the audio length is less than the default n_fft size\n",
    "        if len(audio) < 2048:\n",
    "            # Pad the audio file with zeros\n",
    "            audio = np.pad(audio, (0, 2048 - len(audio)), mode='constant')\n",
    "\n",
    "\n",
    "\n",
    "        # Extract MFCC features\n",
    "        mfccs = librosa.feature.mfcc(y=audio, sr=target_sr, n_mfcc=40)\n",
    "        mfccs_scaled = np.mean(mfccs.T, axis=0)\n",
    "\n",
    "\n",
    "        # Append features and labels\n",
    "        features.append(mfccs_scaled)\n",
    "        labels.append(row['class'])\n",
    "\n",
    "\n",
    "    return np.array(features), np.array(labels)\n",
    "\n"
   ]
  },
  {
   "cell_type": "code",
   "execution_count": 3,
   "id": "ab0f1791-9232-438e-8e40-6b06a3a360d8",
   "metadata": {},
   "outputs": [],
   "source": [
    "data_path = \"/Users/elaineran/Downloads/archive\"\n",
    "metadata_path = \"/Users/elaineran/Downloads/archive/UrbanSound8K.csv\"\n",
    "features, labels = load_data(data_path, metadata_path)\n",
    "\n",
    "\n",
    "# Encode labels\n",
    "le = LabelEncoder()\n",
    "labels_encoded = le.fit_transform(labels)\n",
    "labels_onehot = to_categorical(labels_encoded)\n"
   ]
  },
  {
   "cell_type": "code",
   "execution_count": 4,
   "id": "f74587fc-dbd8-4ffe-8ec0-d2b16d7cd394",
   "metadata": {},
   "outputs": [],
   "source": [
    "# Split the data into training and testing sets\n",
    "X_train, X_test, y_train, y_test = train_test_split(features, labels_onehot, test_size=0.2, random_state=42, stratify=labels_onehot)\n"
   ]
  },
  {
   "cell_type": "code",
   "execution_count": 5,
   "id": "3586150f-69cb-4a87-8ae8-03f01be93a57",
   "metadata": {},
   "outputs": [],
   "source": [
    "input_shape = (X_train.shape[1], 1)\n",
    "model = Sequential()\n",
    "model.add(Conv1D(64, 3, padding='same', activation='relu', input_shape=input_shape))\n",
    "model.add(MaxPooling1D(pool_size=2))\n",
    "model.add(Dropout(0.25))\n",
    "model.add(Conv1D(128, 3, padding='same', activation='relu'))\n",
    "model.add(MaxPooling1D(pool_size=2))\n",
    "model.add(Dropout(0.25))\n",
    "model.add(Flatten())\n",
    "model.add(Dense(512, activation='relu'))\n",
    "model.add(Dropout(0.5))\n",
    "model.add(Dense(len(le.classes_), activation='softmax'))\n"
   ]
  },
  {
   "cell_type": "code",
   "execution_count": 6,
   "id": "291b7376-da75-4fa3-9bd3-7e51cba39bfa",
   "metadata": {},
   "outputs": [],
   "source": [
    "model.compile(loss='categorical_crossentropy', optimizer='adam', metrics=['accuracy'])"
   ]
  },
  {
   "cell_type": "code",
   "execution_count": 7,
   "id": "d0139aa8-1f48-468a-bf44-f4d61fbc7b15",
   "metadata": {},
   "outputs": [],
   "source": [
    "X_train = X_train.reshape(X_train.shape[0], X_train.shape[1], 1)\n",
    "X_test = X_test.reshape(X_test.shape[0], X_test.shape[1], 1)\n"
   ]
  },
  {
   "cell_type": "code",
   "execution_count": 8,
   "id": "0c589a4f-81b6-4eb6-be85-3964101e1b04",
   "metadata": {},
   "outputs": [],
   "source": [
    "def make_predictions(model, le, file_path):\n",
    "    audio, sample_rate = librosa.load(file_path, sr=22050)\n",
    "    mfccs = librosa.feature.mfcc(y=audio, sr=22050, n_mfcc=40)\n",
    "    mfccs_scaled = np.mean(mfccs.T, axis=0)\n",
    "    features = mfccs_scaled.reshape(1, mfccs_scaled.shape[0], 1)\n",
    "    predicted_vector = model.predict(features)\n",
    "    predicted_class_index = np.argmax(predicted_vector, axis=-1)\n",
    "    return le.inverse_transform(predicted_class_index)[0]\n"
   ]
  },
  {
   "cell_type": "code",
   "execution_count": 10,
   "id": "2e769f3e-e535-4a33-ad10-f609336d73d5",
   "metadata": {},
   "outputs": [],
   "source": [
    "# Save the initial weights\n",
    "initial_weights = model.get_weights()\n",
    "\n",
    "\n",
    "# Dictionary to store old predictions\n",
    "old_predictions = {}\n",
    "new_predictions = {}\n",
    "\n",
    "\n",
    "# List of test files and their true labels\n",
    "#test_files = [\n",
    "    #(\"/Users/elaineran/Downloads/archive/fold1/101415-3-0-2.wav\", \"Dog bark\"),\n",
    "    #(\"/Users/elaineran/Downloads/archive/fold1/101415-3-0-3.wav\", \"Dog bark\"),\n",
    "    #(\"/Users/elaineran/Downloads/archive/fold1/102305-6-0-0.wav\", \"Gun shots\"),\n",
    "    #(\"/Users/elaineran/Downloads/archive/fold1/103074-7-0-2.wav\", \"Jack hammer\"),\n",
    "    #(\"/Users/elaineran/Downloads/archive/fold1/103074-7-4-3.wav\", \"Jack hammer\")\n",
    "#]\n",
    "\n",
    "\n",
    "# Make predictions before training\n",
    "#for file_path, true_label in test_files:\n",
    "    #predicted_label_before = make_predictions(model, le, file_path)\n",
    "    #old_predictions[file_path] = predicted_label_before\n"
   ]
  },
  {
   "cell_type": "code",
   "execution_count": 11,
   "id": "f34140ed-9fbd-426a-a992-05f1996a4fcf",
   "metadata": {},
   "outputs": [
    {
     "name": "stdout",
     "output_type": "stream",
     "text": [
      "Train on 6985 samples, validate on 1747 samples\n",
      "Epoch 1/100\n",
      "6985/6985 [==============================] - 10s 1ms/step - loss: 2.5657 - accuracy: 0.3243 - val_loss: 1.3631 - val_accuracy: 0.5581\n",
      "Epoch 2/100\n",
      "6985/6985 [==============================] - 9s 1ms/step - loss: 1.4642 - accuracy: 0.4932 - val_loss: 1.1034 - val_accuracy: 0.6600\n",
      "Epoch 3/100\n",
      "6985/6985 [==============================] - 9s 1ms/step - loss: 1.2632 - accuracy: 0.5632 - val_loss: 0.9038 - val_accuracy: 0.7064\n",
      "Epoch 4/100\n",
      "6985/6985 [==============================] - 9s 1ms/step - loss: 1.1143 - accuracy: 0.6208 - val_loss: 0.8110 - val_accuracy: 0.7504\n",
      "Epoch 5/100\n",
      "6985/6985 [==============================] - 9s 1ms/step - loss: 0.9992 - accuracy: 0.6661 - val_loss: 0.7149 - val_accuracy: 0.7813\n",
      "Epoch 6/100\n",
      "6985/6985 [==============================] - 9s 1ms/step - loss: 0.8992 - accuracy: 0.6971 - val_loss: 0.6417 - val_accuracy: 0.8082\n",
      "Epoch 7/100\n",
      "6985/6985 [==============================] - 9s 1ms/step - loss: 0.8178 - accuracy: 0.7250 - val_loss: 0.5775 - val_accuracy: 0.8208\n",
      "Epoch 8/100\n",
      "6985/6985 [==============================] - 9s 1ms/step - loss: 0.7569 - accuracy: 0.7483 - val_loss: 0.5404 - val_accuracy: 0.8311\n",
      "Epoch 9/100\n",
      "6985/6985 [==============================] - 10s 1ms/step - loss: 0.7071 - accuracy: 0.7619 - val_loss: 0.4983 - val_accuracy: 0.8483\n",
      "Epoch 10/100\n",
      "6985/6985 [==============================] - 10s 1ms/step - loss: 0.6362 - accuracy: 0.7848 - val_loss: 0.4632 - val_accuracy: 0.8535\n",
      "Epoch 11/100\n",
      "6985/6985 [==============================] - 10s 1ms/step - loss: 0.6410 - accuracy: 0.7828 - val_loss: 0.4661 - val_accuracy: 0.8529\n",
      "Epoch 12/100\n",
      "6985/6985 [==============================] - 10s 1ms/step - loss: 0.5773 - accuracy: 0.7997 - val_loss: 0.4215 - val_accuracy: 0.8724\n",
      "Epoch 13/100\n",
      "6985/6985 [==============================] - 10s 1ms/step - loss: 0.5383 - accuracy: 0.8180 - val_loss: 0.4051 - val_accuracy: 0.8792\n",
      "Epoch 14/100\n",
      "6985/6985 [==============================] - 10s 1ms/step - loss: 0.5069 - accuracy: 0.8275 - val_loss: 0.3918 - val_accuracy: 0.8712\n",
      "Epoch 15/100\n",
      "6985/6985 [==============================] - 10s 1ms/step - loss: 0.4880 - accuracy: 0.8341 - val_loss: 0.3874 - val_accuracy: 0.8786\n",
      "Epoch 16/100\n",
      "6985/6985 [==============================] - 10s 1ms/step - loss: 0.4503 - accuracy: 0.8464 - val_loss: 0.3536 - val_accuracy: 0.8964\n",
      "Epoch 17/100\n",
      "6985/6985 [==============================] - 10s 1ms/step - loss: 0.4444 - accuracy: 0.8586 - val_loss: 0.3243 - val_accuracy: 0.8981\n",
      "Epoch 18/100\n",
      "6985/6985 [==============================] - 10s 1ms/step - loss: 0.4219 - accuracy: 0.8597 - val_loss: 0.3392 - val_accuracy: 0.8901\n",
      "Epoch 19/100\n",
      "6985/6985 [==============================] - 10s 1ms/step - loss: 0.3944 - accuracy: 0.8709 - val_loss: 0.3094 - val_accuracy: 0.9021\n",
      "Epoch 20/100\n",
      "6985/6985 [==============================] - 10s 1ms/step - loss: 0.3842 - accuracy: 0.8677 - val_loss: 0.3419 - val_accuracy: 0.9033\n",
      "Epoch 21/100\n",
      "6985/6985 [==============================] - 10s 1ms/step - loss: 0.3677 - accuracy: 0.8749 - val_loss: 0.3138 - val_accuracy: 0.9073\n",
      "Epoch 22/100\n",
      "6985/6985 [==============================] - 10s 1ms/step - loss: 0.3391 - accuracy: 0.8827 - val_loss: 0.3096 - val_accuracy: 0.9027\n",
      "Epoch 23/100\n",
      "6985/6985 [==============================] - 10s 1ms/step - loss: 0.3316 - accuracy: 0.8892 - val_loss: 0.3013 - val_accuracy: 0.9078\n",
      "Epoch 24/100\n",
      "6985/6985 [==============================] - 10s 1ms/step - loss: 0.3202 - accuracy: 0.8955 - val_loss: 0.2793 - val_accuracy: 0.9187\n",
      "Epoch 25/100\n",
      "6985/6985 [==============================] - 10s 1ms/step - loss: 0.3012 - accuracy: 0.9012 - val_loss: 0.2940 - val_accuracy: 0.9130\n",
      "Epoch 26/100\n",
      "6985/6985 [==============================] - 9s 1ms/step - loss: 0.3098 - accuracy: 0.8982 - val_loss: 0.2620 - val_accuracy: 0.9216\n",
      "Epoch 27/100\n",
      "6985/6985 [==============================] - 10s 1ms/step - loss: 0.2883 - accuracy: 0.9024 - val_loss: 0.2600 - val_accuracy: 0.9187\n",
      "Epoch 28/100\n",
      "6985/6985 [==============================] - 10s 1ms/step - loss: 0.2898 - accuracy: 0.9031 - val_loss: 0.2735 - val_accuracy: 0.9210\n",
      "Epoch 29/100\n",
      "6985/6985 [==============================] - 9s 1ms/step - loss: 0.2566 - accuracy: 0.9115 - val_loss: 0.2854 - val_accuracy: 0.9187\n",
      "Epoch 30/100\n",
      "6985/6985 [==============================] - 10s 1ms/step - loss: 0.2682 - accuracy: 0.9115 - val_loss: 0.2870 - val_accuracy: 0.9204\n",
      "Epoch 31/100\n",
      "6985/6985 [==============================] - 10s 1ms/step - loss: 0.2585 - accuracy: 0.9151 - val_loss: 0.2642 - val_accuracy: 0.9204\n",
      "Epoch 32/100\n",
      "6985/6985 [==============================] - 10s 1ms/step - loss: 0.2447 - accuracy: 0.9190 - val_loss: 0.2722 - val_accuracy: 0.9233\n",
      "Epoch 33/100\n",
      "6985/6985 [==============================] - 10s 1ms/step - loss: 0.2463 - accuracy: 0.9183 - val_loss: 0.2855 - val_accuracy: 0.9227\n",
      "Epoch 34/100\n",
      "6985/6985 [==============================] - 10s 1ms/step - loss: 0.2114 - accuracy: 0.9270 - val_loss: 0.2765 - val_accuracy: 0.9279\n",
      "Epoch 35/100\n",
      "6985/6985 [==============================] - 10s 1ms/step - loss: 0.2134 - accuracy: 0.9281 - val_loss: 0.2829 - val_accuracy: 0.9222\n",
      "Epoch 36/100\n",
      "6985/6985 [==============================] - 10s 1ms/step - loss: 0.2032 - accuracy: 0.9330 - val_loss: 0.2649 - val_accuracy: 0.9319\n",
      "Epoch 37/100\n",
      "6985/6985 [==============================] - 11s 2ms/step - loss: 0.2231 - accuracy: 0.9234 - val_loss: 0.2975 - val_accuracy: 0.9147\n",
      "Epoch 38/100\n",
      "6985/6985 [==============================] - 11s 2ms/step - loss: 0.2117 - accuracy: 0.9303 - val_loss: 0.2696 - val_accuracy: 0.9262\n",
      "Epoch 39/100\n",
      "6985/6985 [==============================] - 10s 1ms/step - loss: 0.1920 - accuracy: 0.9357 - val_loss: 0.2712 - val_accuracy: 0.9319\n",
      "Epoch 40/100\n",
      "6985/6985 [==============================] - 10s 1ms/step - loss: 0.2184 - accuracy: 0.9276 - val_loss: 0.2416 - val_accuracy: 0.9313\n",
      "Epoch 41/100\n",
      "6985/6985 [==============================] - 10s 1ms/step - loss: 0.2170 - accuracy: 0.9251 - val_loss: 0.2685 - val_accuracy: 0.9262\n",
      "Epoch 42/100\n",
      "6985/6985 [==============================] - 10s 1ms/step - loss: 0.2186 - accuracy: 0.9320 - val_loss: 0.2599 - val_accuracy: 0.9313\n",
      "Epoch 43/100\n",
      "6985/6985 [==============================] - 10s 1ms/step - loss: 0.2018 - accuracy: 0.9320 - val_loss: 0.2664 - val_accuracy: 0.9319\n",
      "Epoch 44/100\n",
      "6985/6985 [==============================] - 10s 1ms/step - loss: 0.1938 - accuracy: 0.9343 - val_loss: 0.2546 - val_accuracy: 0.9313\n",
      "Epoch 45/100\n",
      "6985/6985 [==============================] - 10s 1ms/step - loss: 0.1733 - accuracy: 0.9426 - val_loss: 0.2577 - val_accuracy: 0.9267\n",
      "Epoch 46/100\n",
      "6985/6985 [==============================] - 10s 1ms/step - loss: 0.2051 - accuracy: 0.9349 - val_loss: 0.2589 - val_accuracy: 0.9262\n",
      "Epoch 47/100\n",
      "6985/6985 [==============================] - 10s 1ms/step - loss: 0.1808 - accuracy: 0.9416 - val_loss: 0.2596 - val_accuracy: 0.9330\n",
      "Epoch 48/100\n",
      "6985/6985 [==============================] - 11s 2ms/step - loss: 0.1548 - accuracy: 0.9522 - val_loss: 0.2793 - val_accuracy: 0.9290\n",
      "Epoch 49/100\n",
      "6985/6985 [==============================] - 10s 1ms/step - loss: 0.1783 - accuracy: 0.9426 - val_loss: 0.2627 - val_accuracy: 0.9347\n",
      "Epoch 50/100\n",
      "6985/6985 [==============================] - 11s 2ms/step - loss: 0.1537 - accuracy: 0.9487 - val_loss: 0.2669 - val_accuracy: 0.9307\n",
      "Epoch 51/100\n",
      "6985/6985 [==============================] - 11s 2ms/step - loss: 0.1633 - accuracy: 0.9455 - val_loss: 0.2760 - val_accuracy: 0.9353\n",
      "Epoch 52/100\n",
      "6985/6985 [==============================] - 10s 1ms/step - loss: 0.1741 - accuracy: 0.9469 - val_loss: 0.2929 - val_accuracy: 0.9279\n",
      "Epoch 53/100\n",
      "6985/6985 [==============================] - 10s 1ms/step - loss: 0.1628 - accuracy: 0.9445 - val_loss: 0.2931 - val_accuracy: 0.9302\n",
      "Epoch 54/100\n",
      "6985/6985 [==============================] - 10s 1ms/step - loss: 0.1511 - accuracy: 0.9525 - val_loss: 0.2833 - val_accuracy: 0.9370\n",
      "Epoch 55/100\n",
      "6985/6985 [==============================] - 11s 2ms/step - loss: 0.1505 - accuracy: 0.9499 - val_loss: 0.2980 - val_accuracy: 0.9239\n",
      "Epoch 56/100\n",
      "6985/6985 [==============================] - 11s 2ms/step - loss: 0.1513 - accuracy: 0.9518 - val_loss: 0.2635 - val_accuracy: 0.9302\n",
      "Epoch 57/100\n",
      "6985/6985 [==============================] - 11s 2ms/step - loss: 0.1412 - accuracy: 0.9550 - val_loss: 0.2707 - val_accuracy: 0.9330\n",
      "Epoch 58/100\n",
      "6985/6985 [==============================] - 11s 2ms/step - loss: 0.1449 - accuracy: 0.9522 - val_loss: 0.2904 - val_accuracy: 0.9353\n",
      "Epoch 59/100\n",
      "6985/6985 [==============================] - 10s 1ms/step - loss: 0.1670 - accuracy: 0.9485 - val_loss: 0.2671 - val_accuracy: 0.9313\n",
      "Epoch 60/100\n",
      "6985/6985 [==============================] - 10s 1ms/step - loss: 0.1319 - accuracy: 0.9546 - val_loss: 0.2603 - val_accuracy: 0.9330\n",
      "Epoch 61/100\n",
      "6985/6985 [==============================] - 10s 1ms/step - loss: 0.1442 - accuracy: 0.9545 - val_loss: 0.2709 - val_accuracy: 0.9279\n",
      "Epoch 62/100\n",
      "6985/6985 [==============================] - 10s 1ms/step - loss: 0.1405 - accuracy: 0.9523 - val_loss: 0.2730 - val_accuracy: 0.9336\n",
      "Epoch 63/100\n",
      "6985/6985 [==============================] - 10s 1ms/step - loss: 0.1517 - accuracy: 0.9522 - val_loss: 0.2609 - val_accuracy: 0.9393\n",
      "Epoch 64/100\n",
      "6985/6985 [==============================] - 10s 1ms/step - loss: 0.1484 - accuracy: 0.9536 - val_loss: 0.2700 - val_accuracy: 0.9365\n",
      "Epoch 65/100\n",
      "6985/6985 [==============================] - 10s 1ms/step - loss: 0.1410 - accuracy: 0.9559 - val_loss: 0.2870 - val_accuracy: 0.9302\n",
      "Epoch 66/100\n",
      "6985/6985 [==============================] - 10s 1ms/step - loss: 0.1417 - accuracy: 0.9566 - val_loss: 0.2648 - val_accuracy: 0.9325\n",
      "Epoch 67/100\n",
      "6985/6985 [==============================] - 11s 2ms/step - loss: 0.1520 - accuracy: 0.9545 - val_loss: 0.2742 - val_accuracy: 0.9347\n",
      "Epoch 68/100\n",
      "6985/6985 [==============================] - 11s 2ms/step - loss: 0.1433 - accuracy: 0.9558 - val_loss: 0.2928 - val_accuracy: 0.9290\n",
      "Epoch 69/100\n",
      "6985/6985 [==============================] - 10s 1ms/step - loss: 0.1349 - accuracy: 0.9573 - val_loss: 0.2885 - val_accuracy: 0.9342\n",
      "Epoch 70/100\n",
      "6985/6985 [==============================] - 11s 2ms/step - loss: 0.1354 - accuracy: 0.9565 - val_loss: 0.2987 - val_accuracy: 0.9342\n",
      "Epoch 71/100\n",
      "6985/6985 [==============================] - 11s 2ms/step - loss: 0.1060 - accuracy: 0.9652 - val_loss: 0.2887 - val_accuracy: 0.9313\n",
      "Epoch 72/100\n",
      "6985/6985 [==============================] - 10s 1ms/step - loss: 0.1367 - accuracy: 0.9575 - val_loss: 0.3010 - val_accuracy: 0.9347\n",
      "Epoch 73/100\n",
      "6985/6985 [==============================] - 10s 1ms/step - loss: 0.1640 - accuracy: 0.9518 - val_loss: 0.2908 - val_accuracy: 0.9342\n",
      "Epoch 74/100\n",
      "6985/6985 [==============================] - 10s 1ms/step - loss: 0.1483 - accuracy: 0.9539 - val_loss: 0.3203 - val_accuracy: 0.9290\n",
      "Epoch 75/100\n",
      "6985/6985 [==============================] - 10s 1ms/step - loss: 0.1360 - accuracy: 0.9571 - val_loss: 0.3174 - val_accuracy: 0.9290\n",
      "Epoch 76/100\n",
      "6985/6985 [==============================] - 10s 1ms/step - loss: 0.1175 - accuracy: 0.9605 - val_loss: 0.2888 - val_accuracy: 0.9353\n",
      "Epoch 77/100\n",
      "6985/6985 [==============================] - 11s 2ms/step - loss: 0.1447 - accuracy: 0.9533 - val_loss: 0.2793 - val_accuracy: 0.9370\n",
      "Epoch 78/100\n",
      "6985/6985 [==============================] - 11s 2ms/step - loss: 0.1166 - accuracy: 0.9602 - val_loss: 0.2839 - val_accuracy: 0.9393\n",
      "Epoch 79/100\n",
      "6985/6985 [==============================] - 11s 2ms/step - loss: 0.1050 - accuracy: 0.9668 - val_loss: 0.3144 - val_accuracy: 0.9330\n",
      "Epoch 80/100\n",
      "6985/6985 [==============================] - 11s 2ms/step - loss: 0.1232 - accuracy: 0.9622 - val_loss: 0.2911 - val_accuracy: 0.9336\n",
      "Epoch 81/100\n",
      "6985/6985 [==============================] - 10s 1ms/step - loss: 0.1207 - accuracy: 0.9579 - val_loss: 0.2988 - val_accuracy: 0.9353\n",
      "Epoch 82/100\n",
      "6985/6985 [==============================] - 11s 2ms/step - loss: 0.1171 - accuracy: 0.9632 - val_loss: 0.2903 - val_accuracy: 0.9353\n",
      "Epoch 83/100\n",
      "6985/6985 [==============================] - 11s 2ms/step - loss: 0.1178 - accuracy: 0.9651 - val_loss: 0.2835 - val_accuracy: 0.9262\n",
      "Epoch 84/100\n",
      "6985/6985 [==============================] - 10s 1ms/step - loss: 0.1396 - accuracy: 0.9592 - val_loss: 0.2876 - val_accuracy: 0.9313\n",
      "Epoch 85/100\n",
      "6985/6985 [==============================] - 10s 1ms/step - loss: 0.1323 - accuracy: 0.9598 - val_loss: 0.3278 - val_accuracy: 0.9290\n",
      "Epoch 86/100\n",
      "6985/6985 [==============================] - 11s 2ms/step - loss: 0.1292 - accuracy: 0.9592 - val_loss: 0.2812 - val_accuracy: 0.9405\n",
      "Epoch 87/100\n",
      "6985/6985 [==============================] - 10s 1ms/step - loss: 0.1283 - accuracy: 0.9593 - val_loss: 0.3044 - val_accuracy: 0.9342\n",
      "Epoch 88/100\n",
      "6985/6985 [==============================] - 10s 1ms/step - loss: 0.1221 - accuracy: 0.9603 - val_loss: 0.3239 - val_accuracy: 0.9353\n",
      "Epoch 89/100\n",
      "6985/6985 [==============================] - 10s 1ms/step - loss: 0.1074 - accuracy: 0.9632 - val_loss: 0.3192 - val_accuracy: 0.9359\n",
      "Epoch 90/100\n",
      "6985/6985 [==============================] - 10s 1ms/step - loss: 0.1279 - accuracy: 0.9586 - val_loss: 0.3166 - val_accuracy: 0.9325\n",
      "Epoch 91/100\n",
      "6985/6985 [==============================] - 10s 1ms/step - loss: 0.0954 - accuracy: 0.9698 - val_loss: 0.3086 - val_accuracy: 0.9319\n",
      "Epoch 92/100\n",
      "6985/6985 [==============================] - 10s 1ms/step - loss: 0.1315 - accuracy: 0.9573 - val_loss: 0.3309 - val_accuracy: 0.9284\n",
      "Epoch 93/100\n",
      "6985/6985 [==============================] - 10s 1ms/step - loss: 0.1288 - accuracy: 0.9613 - val_loss: 0.3206 - val_accuracy: 0.9347\n",
      "Epoch 94/100\n",
      "6985/6985 [==============================] - 10s 1ms/step - loss: 0.1135 - accuracy: 0.9646 - val_loss: 0.3006 - val_accuracy: 0.9336\n",
      "Epoch 95/100\n",
      "6985/6985 [==============================] - 10s 1ms/step - loss: 0.1187 - accuracy: 0.9639 - val_loss: 0.2969 - val_accuracy: 0.9405\n",
      "Epoch 96/100\n",
      "6985/6985 [==============================] - 10s 1ms/step - loss: 0.1278 - accuracy: 0.9608 - val_loss: 0.2732 - val_accuracy: 0.9359\n",
      "Epoch 97/100\n",
      "6985/6985 [==============================] - 10s 1ms/step - loss: 0.1061 - accuracy: 0.9666 - val_loss: 0.2776 - val_accuracy: 0.9365\n",
      "Epoch 98/100\n",
      "6985/6985 [==============================] - 10s 1ms/step - loss: 0.1029 - accuracy: 0.9669 - val_loss: 0.2778 - val_accuracy: 0.9347\n",
      "Epoch 99/100\n",
      "6985/6985 [==============================] - 10s 1ms/step - loss: 0.1178 - accuracy: 0.9631 - val_loss: 0.3087 - val_accuracy: 0.9307\n",
      "Epoch 100/100\n",
      "6985/6985 [==============================] - 10s 1ms/step - loss: 0.1191 - accuracy: 0.9612 - val_loss: 0.2892 - val_accuracy: 0.9342\n"
     ]
    }
   ],
   "source": [
    "history = model.fit(X_train, y_train, epochs=100, validation_data=(X_test, y_test))"
   ]
  },
  {
   "cell_type": "code",
   "execution_count": 12,
   "id": "38b89742-c1b7-4730-8c90-83f7a00f3d9d",
   "metadata": {},
   "outputs": [
    {
     "data": {
      "image/png": "[encoded data removed]",
      "text/plain": [
       "<Figure size 432x288 with 1 Axes>"
      ]
     },
     "metadata": {
      "needs_background": "light"
     },
     "output_type": "display_data"
    }
   ],
   "source": [
    "# plotting from history\n",
    "\n",
    "loss = history.history['loss']\n",
    "val_loss = history.history['val_loss']\n",
    "acc = history.history['accuracy']\n",
    "val_acc = history.history['val_accuracy']\n",
    "\n",
    "epochs = list(range(len(loss)))\n",
    "\n",
    "figsize = (6, 4)\n",
    "fig, axis1 = plt.subplots(figsize=figsize)\n",
    "plot1_lacc = axis1.plot(epochs, acc, 'navy', label='accuracy')\n",
    "plot1_val_lacc = axis1.plot(epochs, val_acc, 'deepskyblue', label=\"validation accuracy\")\n",
    "\n",
    "plot1_loss = axis1.plot(epochs, loss, 'red', label='loss')\n",
    "plot1_val_loss = axis1.plot(epochs, val_loss, 'lightsalmon', label=\"validation loss\")\n",
    "\n",
    "\n",
    "plots = plot1_loss + plot1_val_loss\n",
    "labs = [plot.get_label() for plot in plots]\n",
    "axis1.set_xlabel('Epoch')\n",
    "axis1.set_ylabel('Loss/Accuracy')\n",
    "plt.title(\"Loss/Accuracy History\")\n",
    "plt.tight_layout()\n",
    "axis1.legend(loc='lower right')\n",
    "plt.show()"
   ]
  },
  {
   "cell_type": "code",
   "execution_count": 14,
   "id": "9fb885b8-f2d5-4e19-a085-0967fbe0f388",
   "metadata": {},
   "outputs": [],
   "source": [
    "test_predictions = model.predict(X_test)"
   ]
  },
  {
   "cell_type": "code",
   "execution_count": 23,
   "id": "63cfd603-b3d6-47fe-abc7-b19027a141d5",
   "metadata": {},
   "outputs": [
    {
     "name": "stdout",
     "output_type": "stream",
     "text": [
      "['air_conditioner' 'street_music' 'dog_bark' ... 'dog_bark' 'jackhammer'\n",
      " 'children_playing']\n"
     ]
    }
   ],
   "source": [
    "predicted_class_indices = np.argmax(test_predictions, axis=1)\n",
    "predicted_classes = le.inverse_transform(predicted_class_indices)\n",
    "print(predicted_classes)"
   ]
  },
  {
   "cell_type": "code",
   "execution_count": 25,
   "id": "03dc1555-b1df-484f-8c5b-1b647d1717da",
   "metadata": {},
   "outputs": [
    {
     "name": "stdout",
     "output_type": "stream",
     "text": [
      "['air_conditioner' 'street_music' 'dog_bark' ... 'dog_bark' 'jackhammer'\n",
      " 'children_playing']\n"
     ]
    }
   ],
   "source": [
    "y_true = np.argmax(y_test, axis=1)\n",
    "true_classes = le.inverse_transform(y_true)\n",
    "print(true_classes)"
   ]
  },
  {
   "cell_type": "code",
   "execution_count": 26,
   "id": "a7263ca4-19b2-4a8e-b954-e1fa51a956e8",
   "metadata": {},
   "outputs": [
    {
     "name": "stdout",
     "output_type": "stream",
     "text": [
      "Accuracy: 0.9341728677733258\n",
      "                  precision    recall  f1-score   support\n",
      "\n",
      " air_conditioner       0.97      0.99      0.98       200\n",
      "        car_horn       0.94      0.93      0.94        86\n",
      "children_playing       0.85      0.91      0.88       200\n",
      "        dog_bark       0.93      0.85      0.89       200\n",
      "        drilling       0.97      0.93      0.95       200\n",
      "   engine_idling       0.98      0.99      0.98       200\n",
      "        gun_shot       0.96      0.88      0.92        75\n",
      "      jackhammer       0.93      0.97      0.95       200\n",
      "           siren       0.98      0.98      0.98       186\n",
      "    street_music       0.86      0.88      0.87       200\n",
      "\n",
      "        accuracy                           0.93      1747\n",
      "       macro avg       0.94      0.93      0.93      1747\n",
      "    weighted avg       0.94      0.93      0.93      1747\n",
      "\n",
      "Confusion Matrix:\n",
      " [[199   0   0   0   0   0   0   0   0   1]\n",
      " [  2  80   0   0   0   0   0   2   0   2]\n",
      " [  2   1 181   5   0   2   2   0   0   7]\n",
      " [  1   2   8 170   0   3   1   1   3  11]\n",
      " [  1   0   1   3 186   0   0   7   0   2]\n",
      " [  0   0   1   0   0 198   0   0   0   1]\n",
      " [  0   0   6   2   0   0  66   0   0   1]\n",
      " [  0   0   0   0   3   0   0 194   0   3]\n",
      " [  0   0   2   1   0   0   0   0 183   0]\n",
      " [  1   2  14   1   2   0   0   5   0 175]]\n"
     ]
    }
   ],
   "source": [
    "from sklearn.metrics import accuracy_score, classification_report, confusion_matrix\n",
    "\n",
    "# Calculate accuracy\n",
    "accuracy = accuracy_score(y_true, predicted_class_indices)\n",
    "print(\"Accuracy:\", accuracy)\n",
    "\n",
    "# Generate a classification report\n",
    "print(classification_report(y_true, predicted_class_indices, target_names=le.classes_))\n",
    "\n",
    "# Confusion matrix\n",
    "cm = confusion_matrix(y_true, predicted_class_indices)\n",
    "print(\"Confusion Matrix:\\n\", cm)\n"
   ]
  },
  {
   "cell_type": "code",
   "execution_count": 27,
   "id": "71aa54b0-bd8c-4048-ac42-42c314e80197",
   "metadata": {},
   "outputs": [
    {
     "data": {
      "image/png": "[encoded data removed]",
      "text/plain": [
       "<Figure size 720x576 with 2 Axes>"
      ]
     },
     "metadata": {
      "needs_background": "light"
     },
     "output_type": "display_data"
    }
   ],
   "source": [
    "import matplotlib.pyplot as plt\n",
    "import seaborn as sns\n",
    "\n",
    "plt.figure(figsize=(10, 8))\n",
    "sns.heatmap(cm, annot=True, fmt=\"d\", cmap=\"Blues\", xticklabels=le.classes_, yticklabels=le.classes_)\n",
    "plt.xlabel('Predicted Labels')\n",
    "plt.ylabel('True Labels')\n",
    "plt.title('Confusion Matrix')\n",
    "plt.show()\n"
   ]
  },
  {
   "cell_type": "code",
   "execution_count": null,
   "id": "b2fbef21-4bda-4b57-ac74-7532683d2c65",
   "metadata": {},
   "outputs": [],
   "source": []
  }
 ],
 "metadata": {
  "kernelspec": {
   "display_name": "base",
   "language": "python",
   "name": "python3"
  },
  "language_info": {
   "codemirror_mode": {
    "name": "ipython",
    "version": 3
   },
   "file_extension": ".py",
   "mimetype": "text/x-python",
   "name": "python",
   "nbconvert_exporter": "python",
   "pygments_lexer": "ipython3",
   "version": "3.11.5"
  }
 },
 "nbformat": 4,
 "nbformat_minor": 5
}
