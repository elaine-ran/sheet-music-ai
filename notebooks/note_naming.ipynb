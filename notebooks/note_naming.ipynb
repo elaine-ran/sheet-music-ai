{
 "cells": [
  {
   "cell_type": "code",
   "execution_count": 24,
   "metadata": {},
   "outputs": [
    {
     "ename": "ValueError",
     "evalue": "invalid literal for int() with base 10: '103 copy 10'",
     "output_type": "error",
     "traceback": [
      "\u001b[0;31m---------------------------------------------------------------------------\u001b[0m",
      "\u001b[0;31mValueError\u001b[0m                                Traceback (most recent call last)",
      "Cell \u001b[0;32mIn[24], line 31\u001b[0m\n\u001b[1;32m     15\u001b[0m     \u001b[38;5;66;03m# Iterate through sorted files\u001b[39;00m\n\u001b[1;32m     16\u001b[0m     \u001b[38;5;66;03m#for file_name in files:\u001b[39;00m\n\u001b[1;32m     17\u001b[0m     \u001b[38;5;66;03m#    file_path = os.path.join(folder_path, file_name)\u001b[39;00m\n\u001b[0;32m   (...)\u001b[0m\n\u001b[1;32m     24\u001b[0m     \u001b[38;5;66;03m#            print(content)\u001b[39;00m\n\u001b[1;32m     25\u001b[0m     \u001b[38;5;66;03m#            print(\"\\n\")\u001b[39;00m\n\u001b[1;32m     30\u001b[0m folder_path \u001b[38;5;241m=\u001b[39m \u001b[38;5;124m'\u001b[39m\u001b[38;5;124m/Users/chloezhao/summer 2024 project/summer-project/piano_notes/\u001b[39m\u001b[38;5;124m'\u001b[39m\n\u001b[0;32m---> 31\u001b[0m read_files_from_folder(folder_path)\n\u001b[1;32m     34\u001b[0m note_files \u001b[38;5;241m=\u001b[39m []\n\u001b[1;32m     36\u001b[0m \u001b[38;5;28;01mfor\u001b[39;00m file_name \u001b[38;5;129;01min\u001b[39;00m read_files_from_folder(folder_path):\n",
      "Cell \u001b[0;32mIn[24], line 12\u001b[0m, in \u001b[0;36mread_files_from_folder\u001b[0;34m(folder_path)\u001b[0m\n\u001b[1;32m      9\u001b[0m files \u001b[38;5;241m=\u001b[39m os\u001b[38;5;241m.\u001b[39mlistdir(folder_path)\n\u001b[1;32m     11\u001b[0m \u001b[38;5;66;03m# Sort files (this example sorts alphabetically; adjust as needed)\u001b[39;00m\n\u001b[0;32m---> 12\u001b[0m files\u001b[38;5;241m.\u001b[39msort(key\u001b[38;5;241m=\u001b[39mnumerical_sort)\n\u001b[1;32m     13\u001b[0m \u001b[38;5;28;01mreturn\u001b[39;00m(files)\n",
      "Cell \u001b[0;32mIn[24], line 5\u001b[0m, in \u001b[0;36mnumerical_sort\u001b[0;34m(value)\u001b[0m\n\u001b[1;32m      3\u001b[0m \u001b[38;5;28;01mdef\u001b[39;00m \u001b[38;5;21mnumerical_sort\u001b[39m(value):\n\u001b[1;32m      4\u001b[0m     \u001b[38;5;66;03m# Extracts numeric value from the file name\u001b[39;00m\n\u001b[0;32m----> 5\u001b[0m     \u001b[38;5;28;01mreturn\u001b[39;00m \u001b[38;5;28mint\u001b[39m(value[\u001b[38;5;241m8\u001b[39m:\u001b[38;5;28mlen\u001b[39m(value)\u001b[38;5;241m-\u001b[39m\u001b[38;5;241m4\u001b[39m])\n",
      "\u001b[0;31mValueError\u001b[0m: invalid literal for int() with base 10: '103 copy 10'"
     ]
    }
   ],
   "source": [
    "import os\n",
    "\n",
    "def numerical_sort(value):\n",
    "    # Extracts numeric value from the file name\n",
    "    return int(value[8:len(value)-4])\n",
    "\n",
    "def read_files_from_folder(folder_path):\n",
    "    # List all files in the folder\n",
    "    files = os.listdir(folder_path)\n",
    "    \n",
    "    # Sort files (this example sorts alphabetically; adjust as needed)\n",
    "    files.sort(key=numerical_sort)\n",
    "    return(files)\n",
    "\n",
    "    # Iterate through sorted files\n",
    "    #for file_name in files:\n",
    "    #    file_path = os.path.join(folder_path, file_name)\n",
    "        \n",
    "        # Check if it's a file (and not a directory)\n",
    "    #    if os.path.isfile(file_path):\n",
    "    #        with open(file_path, 'r') as file:\n",
    "    #            content = file.read()\n",
    "    #            print(f\"Contents of {file_name}:\")\n",
    "    #            print(content)\n",
    "    #            print(\"\\n\")\n",
    "\n",
    "\n",
    "    \n",
    "        \n",
    "folder_path = '/Users/chloezhao/summer 2024 project/summer-project/piano_notes/'\n",
    "read_files_from_folder(folder_path)\n",
    "\n",
    "\n",
    "note_files = []\n",
    "    \n",
    "for file_name in read_files_from_folder(folder_path):\n",
    "    note_files.append(file_name)\n",
    "\n",
    "print(note_files)"
   ]
  },
  {
   "cell_type": "code",
   "execution_count": 4,
   "metadata": {},
   "outputs": [],
   "source": [
    "notes_list = [\"C\",\"C#\",\"D\",\"Eb\",\"E\",\"F\",\"F#\",\"G\",\"G#\",\"A\",\"Bb\",\"B\"]\n",
    "\n"
   ]
  },
  {
   "cell_type": "code",
   "execution_count": 30,
   "metadata": {},
   "outputs": [],
   "source": [
    "import pandas as pd\n",
    "\n",
    "df = pd.DataFrame()\n",
    "\n",
    "df['File Names'] = note_files\n",
    "\n",
    "note_matching = [\"A0\",\"Bb0\",\"B0\"]\n",
    "\n",
    "i = 1\n",
    "\n",
    "while i<8:\n",
    "    for note in notes_list:\n",
    "        note_matching.append(note+str(i))\n",
    "    i += 1\n",
    "\n",
    "note_matching.append(\"C8\")\n",
    "\n",
    "df['Note'] = note_matching\n",
    "\n",
    "df.to_csv('piano_notes.csv', index=False)"
   ]
  },
  {
   "cell_type": "code",
   "execution_count": 31,
   "metadata": {},
   "outputs": [
    {
     "data": {
      "text/html": [
       "<div>\n",
       "<style scoped>\n",
       "    .dataframe tbody tr th:only-of-type {\n",
       "        vertical-align: middle;\n",
       "    }\n",
       "\n",
       "    .dataframe tbody tr th {\n",
       "        vertical-align: top;\n",
       "    }\n",
       "\n",
       "    .dataframe thead th {\n",
       "        text-align: right;\n",
       "    }\n",
       "</style>\n",
       "<table border=\"1\" class=\"dataframe\">\n",
       "  <thead>\n",
       "    <tr style=\"text-align: right;\">\n",
       "      <th></th>\n",
       "      <th>File Names</th>\n",
       "      <th>Note</th>\n",
       "    </tr>\n",
       "  </thead>\n",
       "  <tbody>\n",
       "    <tr>\n",
       "      <th>0</th>\n",
       "      <td>segment_3.wav</td>\n",
       "      <td>A0</td>\n",
       "    </tr>\n",
       "    <tr>\n",
       "      <th>1</th>\n",
       "      <td>segment_5.wav</td>\n",
       "      <td>Bb0</td>\n",
       "    </tr>\n",
       "    <tr>\n",
       "      <th>2</th>\n",
       "      <td>segment_7.wav</td>\n",
       "      <td>B0</td>\n",
       "    </tr>\n",
       "    <tr>\n",
       "      <th>3</th>\n",
       "      <td>segment_13.wav</td>\n",
       "      <td>C1</td>\n",
       "    </tr>\n",
       "    <tr>\n",
       "      <th>4</th>\n",
       "      <td>segment_14.wav</td>\n",
       "      <td>C#1</td>\n",
       "    </tr>\n",
       "    <tr>\n",
       "      <th>...</th>\n",
       "      <td>...</td>\n",
       "      <td>...</td>\n",
       "    </tr>\n",
       "    <tr>\n",
       "      <th>83</th>\n",
       "      <td>segment_106.wav</td>\n",
       "      <td>G#7</td>\n",
       "    </tr>\n",
       "    <tr>\n",
       "      <th>84</th>\n",
       "      <td>segment_107.wav</td>\n",
       "      <td>A7</td>\n",
       "    </tr>\n",
       "    <tr>\n",
       "      <th>85</th>\n",
       "      <td>segment_108.wav</td>\n",
       "      <td>Bb7</td>\n",
       "    </tr>\n",
       "    <tr>\n",
       "      <th>86</th>\n",
       "      <td>segment_109.wav</td>\n",
       "      <td>B7</td>\n",
       "    </tr>\n",
       "    <tr>\n",
       "      <th>87</th>\n",
       "      <td>segment_110.wav</td>\n",
       "      <td>C8</td>\n",
       "    </tr>\n",
       "  </tbody>\n",
       "</table>\n",
       "<p>88 rows × 2 columns</p>\n",
       "</div>"
      ],
      "text/plain": [
       "         File Names Note\n",
       "0     segment_3.wav   A0\n",
       "1     segment_5.wav  Bb0\n",
       "2     segment_7.wav   B0\n",
       "3    segment_13.wav   C1\n",
       "4    segment_14.wav  C#1\n",
       "..              ...  ...\n",
       "83  segment_106.wav  G#7\n",
       "84  segment_107.wav   A7\n",
       "85  segment_108.wav  Bb7\n",
       "86  segment_109.wav   B7\n",
       "87  segment_110.wav   C8\n",
       "\n",
       "[88 rows x 2 columns]"
      ]
     },
     "execution_count": 31,
     "metadata": {},
     "output_type": "execute_result"
    }
   ],
   "source": [
    "df"
   ]
  },
  {
   "cell_type": "code",
   "execution_count": 32,
   "metadata": {},
   "outputs": [],
   "source": [
    "def remove_wav(x):\n",
    "    return x.replace('.wav', '')\n",
    "\n",
    "df['File Names'] = df['File Names'].apply(remove_wav)"
   ]
  },
  {
   "cell_type": "code",
   "execution_count": 33,
   "metadata": {},
   "outputs": [],
   "source": [
    "def remove_number(x):\n",
    "    if pd.notnull(x):\n",
    "        return x[:-1]\n",
    "    return x\n",
    "\n",
    "df['Unique Notes'] = df['Note'].apply(remove_number)"
   ]
  },
  {
   "cell_type": "code",
   "execution_count": 34,
   "metadata": {},
   "outputs": [
    {
     "name": "stdout",
     "output_type": "stream",
     "text": [
      "             File Names Note Unique Notes\n",
      "0             segment_3   A0            A\n",
      "1             segment_5  Bb0           Bb\n",
      "2             segment_7   B0            B\n",
      "3            segment_13   C1            C\n",
      "4            segment_14  C#1           C#\n",
      "..                  ...  ...          ...\n",
      "83  segment_106 copy 10  G#7           G#\n",
      "84  segment_107 copy 10   A7            A\n",
      "85  segment_108 copy 10  Bb7           Bb\n",
      "86  segment_109 copy 10   B7            B\n",
      "87  segment_110 copy 10   C8            C\n",
      "\n",
      "[968 rows x 3 columns]\n"
     ]
    }
   ],
   "source": [
    "notes_set = df.iloc[:88]\n",
    "\n",
    "num_iterations = 10\n",
    "\n",
    "notes_with_copies = notes_set.copy()\n",
    "\n",
    "for num in range(1, num_iterations + 1):\n",
    "    # Create a copy of the original DataFrame\n",
    "    note_set_copy = notes_set.copy()\n",
    "    \n",
    "    # Append \" copy 'num'\" to each entry in the first column\n",
    "    note_set_copy['File Names'] = note_set_copy['File Names'] + f\" copy {num}\"\n",
    "\n",
    "    notes_with_copies = pd.concat([notes_with_copies, note_set_copy], axis=0)\n",
    "    \n",
    "\n",
    "print(notes_with_copies)\n",
    "\n",
    "notes_with_copies.to_csv('piano_notes.csv', index=False)"
   ]
  }
 ],
 "metadata": {
  "kernelspec": {
   "display_name": "base",
   "language": "python",
   "name": "python3"
  },
  "language_info": {
   "codemirror_mode": {
    "name": "ipython",
    "version": 3
   },
   "file_extension": ".py",
   "mimetype": "text/x-python",
   "name": "python",
   "nbconvert_exporter": "python",
   "pygments_lexer": "ipython3",
   "version": "3.11.5"
  }
 },
 "nbformat": 4,
 "nbformat_minor": 2
}
