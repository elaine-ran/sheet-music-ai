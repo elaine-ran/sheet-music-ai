{
 "cells": [
  {
   "cell_type": "code",
   "execution_count": 20,
   "metadata": {},
   "outputs": [
    {
     "name": "stdout",
     "output_type": "stream",
     "text": [
      "                 Chord Note1 Note2 Note3\n",
      "0            C_maj_2_0   C_2   E_2   G_2\n",
      "1            C_maj_3_0   C_3   E_3   G_3\n",
      "2            C_maj_4_0   C_4   E_4   G_4\n",
      "3            C_maj_5_0   C_5   E_5   G_5\n",
      "4            C_maj_6_0   C_6   E_6   G_6\n",
      "...                ...   ...   ...   ...\n",
      "1435  B_min_3_1 copy 3   B_4   D_4  Fs_4\n",
      "1436  B_min_4_1 copy 3   B_5   D_5  Fs_5\n",
      "1437  B_min_5_1 copy 3   B_6   D_6  Fs_6\n",
      "1438  B_min_6_1 copy 3   B_7   D_7  Fs_7\n",
      "1439  B_min_7_1 copy 3   B_8   D_8  Fs_8\n",
      "\n",
      "[1440 rows x 4 columns]\n"
     ]
    }
   ],
   "source": [
    "import pandas as pd\n",
    "\n",
    "# Read the CSV file into a DataFrame\n",
    "df = pd.read_csv(\"/Users/chloezhao/Downloads/archive2/triads.csv\")\n",
    "\n",
    "# Display the DataFrame\n",
    "print(df)"
   ]
  },
  {
   "cell_type": "code",
   "execution_count": 21,
   "metadata": {},
   "outputs": [],
   "source": [
    "def second_occurrence(s, char):\n",
    "    # Find the first occurrence of the character\n",
    "    first_index = s.find(char)\n",
    "    if first_index == -1:\n",
    "        return -1  # Character not found\n",
    "    # Find the second occurrence of the character\n",
    "    second_index = s.find(char, first_index + 1)\n",
    "    return second_index\n",
    "\n",
    "def change_last_digit_to_zero(x):\n",
    "    if pd.notnull(x):\n",
    "        return x[:second_occurrence(x,\"_\")]\n",
    "    return x\n",
    "\n",
    "df['Chord_modified'] = df['Chord'].apply(change_last_digit_to_zero)\n",
    "\n",
    "df.to_csv('triads_modified.csv', index=False)\n"
   ]
  },
  {
   "cell_type": "code",
   "execution_count": 22,
   "metadata": {},
   "outputs": [
    {
     "name": "stdout",
     "output_type": "stream",
     "text": [
      "                 Chord Note1 Note2 Note3 Chord_modified\n",
      "0            C_maj_2_0   C_2   E_2   G_2          C_maj\n",
      "1            C_maj_3_0   C_3   E_3   G_3          C_maj\n",
      "2            C_maj_4_0   C_4   E_4   G_4          C_maj\n",
      "3            C_maj_5_0   C_5   E_5   G_5          C_maj\n",
      "4            C_maj_6_0   C_6   E_6   G_6          C_maj\n",
      "...                ...   ...   ...   ...            ...\n",
      "1435  B_min_3_1 copy 3   B_4   D_4  Fs_4          B_min\n",
      "1436  B_min_4_1 copy 3   B_5   D_5  Fs_5          B_min\n",
      "1437  B_min_5_1 copy 3   B_6   D_6  Fs_6          B_min\n",
      "1438  B_min_6_1 copy 3   B_7   D_7  Fs_7          B_min\n",
      "1439  B_min_7_1 copy 3   B_8   D_8  Fs_8          B_min\n",
      "\n",
      "[1440 rows x 5 columns]\n"
     ]
    }
   ],
   "source": [
    "print(df)"
   ]
  }
 ],
 "metadata": {
  "kernelspec": {
   "display_name": "base",
   "language": "python",
   "name": "python3"
  },
  "language_info": {
   "codemirror_mode": {
    "name": "ipython",
    "version": 3
   },
   "file_extension": ".py",
   "mimetype": "text/x-python",
   "name": "python",
   "nbconvert_exporter": "python",
   "pygments_lexer": "ipython3",
   "version": "3.11.5"
  }
 },
 "nbformat": 4,
 "nbformat_minor": 2
}
